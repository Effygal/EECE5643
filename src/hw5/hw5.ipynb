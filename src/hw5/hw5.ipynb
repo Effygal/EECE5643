{
 "cells": [
  {
   "attachments": {},
   "cell_type": "markdown",
   "metadata": {},
   "source": [
    "Yirong Wang HW5\n",
    "__________________________________________________________\n",
    "Q3."
   ]
  },
  {
   "cell_type": "code",
   "execution_count": 31,
   "metadata": {},
   "outputs": [
    {
     "data": {
      "text/plain": [
       "(0.009875597204602383,\n",
       " array([2.        , 0.20870716, 0.33462194, 0.11823601, 0.11030724,\n",
       "        0.1168531 , 0.14718341]))"
      ]
     },
     "execution_count": 31,
     "metadata": {},
     "output_type": "execute_result"
    }
   ],
   "source": [
    "import numpy as np\n",
    "def mva(K, S, V, N):\n",
    "    QLEN = np.zeros(shape=(K,N))\n",
    "    RT   = np.zeros(shape=(K,N))\n",
    "    TPUT = np.zeros(shape=(K,N))\n",
    "    for i in range(K):\n",
    "        for j in range(N):\n",
    "            if j == 0:\n",
    "                RT[i,j] = S[i]\n",
    "            else:       \n",
    "                RT[i,j] = S[i] * (1+QLEN[i,j-1]) \n",
    "            TPUT[i,j] = j / np.sum([RT[l,j]*(V[l]/V[i]) for l in range(K)])\n",
    "            QLEN[i,j] = TPUT[i,j]*RT[i,j]\n",
    "    return TPUT[K-1,N-1], np.mean(QLEN, axis=1)\n",
    "\n",
    "mva(7, [20,5,15,10,10,15,20],[1,1,0.6,0.4,0.4,0.3,0.3],5)\n"
   ]
  }
 ],
 "metadata": {
  "kernelspec": {
   "display_name": "Python 3",
   "language": "python",
   "name": "python3"
  },
  "language_info": {
   "codemirror_mode": {
    "name": "ipython",
    "version": 3
   },
   "file_extension": ".py",
   "mimetype": "text/x-python",
   "name": "python",
   "nbconvert_exporter": "python",
   "pygments_lexer": "ipython3",
   "version": "3.10.9"
  },
  "orig_nbformat": 4
 },
 "nbformat": 4,
 "nbformat_minor": 2
}
