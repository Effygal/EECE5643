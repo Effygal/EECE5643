{
 "cells": [
  {
   "cell_type": "markdown",
   "metadata": {},
   "source": [
    "HW4 Yirong Wang"
   ]
  },
  {
   "cell_type": "markdown",
   "metadata": {},
   "source": [
    "--------------------------------------------------------------------------------------------------\n",
    "Q1:"
   ]
  },
  {
   "cell_type": "markdown",
   "metadata": {},
   "source": [
    "(a) \n",
    "\n",
    "(1) With One-Pass algorithm:\n",
    "$$\\overline{x} = \\frac{1}{n}\\sum_{i=1}^{n}x_i = \\frac{(x_1+x_2+x_3)}{3} = 3$$\n",
    "$$s^2 = \\frac{1}{n}\\sum_{i=1}^{n}x_i^2 - \\overline{x}^2 = \\frac{1+6^2+2^2}{3} -9 = 4.67$$\n",
    "$$s = 2.16$$\n",
    "\n",
    "(2) With Welford's algorithm:\n",
    "$$\\overline{x_1} = x_1 = 1 \\text{ ; } v_1 = v_0 + {(x_1 - 0)}^2 = 0$$\n",
    "$$\\overline{x_2} = \\overline{x_1} + \\frac{x_2 - \\overline{x_1}}{2} = 3.5 \\text{ ; } v_2 = v_1 + \\frac{{(x_2 - 1)}^2}{2} = \\frac{25}{2}$$\n",
    "$$\\overline{x_3} = \\overline{x_2} + \\frac{x_3 - \\overline{x_2}}{3} = 3 \\text{ ; } v_3 = v_2 + \\frac{{2(x_3 - 3.5)}^2}{3} = 14$$\n",
    "Therefore, $\\overline{x} = 3$ and $s^2 = \\frac{v_3}{3} = 4.67$, $s = 2.16$.\n",
    "\n",
    "(3) With Two-Pass algorithm:\n",
    "$$s^2 = \\frac{1}{n}\\sum_{i=1}^{n}(x_i-\\overline{x}^2) = \\frac{1}{3}(4+9+1)=4.67$$\n",
    "$$s = 2.16$$\n"
   ]
  },
  {
   "cell_type": "markdown",
   "metadata": {},
   "source": [
    "(b)\n",
    "\n",
    "(1) With One-Pass algorithm:\n",
    "$$\\overline{x} = \\frac{1}{t_n}\\sum_{i=1}^{n}x_i \\delta _i = \\frac{3\\times 2 + 8 \\times 3}{5}=6$$\n",
    "$$s^2 = \\frac{1}{t_n}\\sum_{i=1}^{n}x_i^2 \\delta _i- \\overline{x}^2 = \\frac{9 \\times 2 + 64 \\times 3}{5} - 6^2= 6$$\n",
    "$$s = \\sqrt{6}$$\n",
    "(2) With Welford's algorithm:\n",
    "$$\\overline{x_1} = 0 + \\frac{2}{2}(3-0) =  3\\text{ ; } v_1 = (3-3)^2 = 0$$\n",
    "$$\\overline{x_2} = 3 + \\frac{3}{5}(8-3) = 6 \\text{ ; } v_2 = v_1 + \\frac{6}{5} (8-3)^2= 30$$\n",
    "Therefore, $\\overline{x} = 6$ and $s^2 = \\frac{30}{5} = 6$, $s = \\sqrt{6}$.\n",
    "\n",
    "(3) With Two-Pass algorithm:\n",
    "$$s^2 = \\frac{1}{t_n}\\sum_{i=1}^{n}(x_i-\\overline{x}^2) \\delta _i= \\frac{1}{5}(18+12)=6$$\n",
    "$$s = \\sqrt{6}$$"
   ]
  },
  {
   "cell_type": "markdown",
   "metadata": {},
   "source": [
    "--------------------------------------------------------------------------------------------------\n",
    "Q2:"
   ]
  },
  {
   "cell_type": "code",
   "execution_count": 1,
   "metadata": {},
   "outputs": [
    {
     "data": {
      "text/html": [
       "<style>\n",
       "        .bk-notebook-logo {\n",
       "            display: block;\n",
       "            width: 20px;\n",
       "            height: 20px;\n",
       "            background-image: url(data:image/png;base64,iVBORw0KGgoAAAANSUhEUgAAABQAAAAUCAYAAACNiR0NAAAABHNCSVQICAgIfAhkiAAAAAlwSFlzAAALEgAACxIB0t1+/AAAABx0RVh0U29mdHdhcmUAQWRvYmUgRmlyZXdvcmtzIENTNui8sowAAAOkSURBVDiNjZRtaJVlGMd/1/08zzln5zjP1LWcU9N0NkN8m2CYjpgQYQXqSs0I84OLIC0hkEKoPtiH3gmKoiJDU7QpLgoLjLIQCpEsNJ1vqUOdO7ppbuec5+V+rj4ctwzd8IIbbi6u+8f1539dt3A78eXC7QizUF7gyV1fD1Yqg4JWz84yffhm0qkFqBogB9rM8tZdtwVsPUhWhGcFJngGeWrPzHm5oaMmkfEg1usvLFyc8jLRqDOMru7AyC8saQr7GG7f5fvDeH7Ej8CM66nIF+8yngt6HWaKh7k49Soy9nXurCi1o3qUbS3zWfrYeQDTB/Qj6kX6Ybhw4B+bOYoLKCC9H3Nu/leUTZ1JdRWkkn2ldcCamzrcf47KKXdAJllSlxAOkRgyHsGC/zRday5Qld9DyoM4/q/rUoy/CXh3jzOu3bHUVZeU+DEn8FInkPBFlu3+nW3Nw0mk6vCDiWg8CeJaxEwuHS3+z5RgY+YBR6V1Z1nxSOfoaPa4LASWxxdNp+VWTk7+4vzaou8v8PN+xo+KY2xsw6une2frhw05CTYOmQvsEhjhWjn0bmXPjpE1+kplmmkP3suftwTubK9Vq22qKmrBhpY4jvd5afdRA3wGjFAgcnTK2s4hY0/GPNIb0nErGMCRxWOOX64Z8RAC4oCXdklmEvcL8o0BfkNK4lUg9HTl+oPlQxdNo3Mg4Nv175e/1LDGzZen30MEjRUtmXSfiTVu1kK8W4txyV6BMKlbgk3lMwYCiusNy9fVfvvwMxv8Ynl6vxoByANLTWplvuj/nF9m2+PDtt1eiHPBr1oIfhCChQMBw6Aw0UulqTKZdfVvfG7VcfIqLG9bcldL/+pdWTLxLUy8Qq38heUIjh4XlzZxzQm19lLFlr8vdQ97rjZVOLf8nclzckbcD4wxXMidpX30sFd37Fv/GtwwhzhxGVAprjbg0gCAEeIgwCZyTV2Z1REEW8O4py0wsjeloKoMr6iCY6dP92H6Vw/oTyICIthibxjm/DfN9lVz8IqtqKYLUXfoKVMVQVVJOElGjrnnUt9T9wbgp8AyYKaGlqingHZU/uG2NTZSVqwHQTWkx9hxjkpWDaCg6Ckj5qebgBVbT3V3NNXMSiWSDdGV3hrtzla7J+duwPOToIg42ChPQOQjspnSlp1V+Gjdged7+8UN5CRAV7a5EdFNwCjEaBR27b3W890TE7g24NAP/mMDXRWrGoFPQI9ls/MWO2dWFAar/xcOIImbbpA3zgAAAABJRU5ErkJggg==);\n",
       "        }\n",
       "    </style>\n",
       "    <div>\n",
       "        <a href=\"https://bokeh.org\" target=\"_blank\" class=\"bk-notebook-logo\"></a>\n",
       "        <span id=\"p1001\">Loading BokehJS ...</span>\n",
       "    </div>\n"
      ]
     },
     "metadata": {},
     "output_type": "display_data"
    },
    {
     "data": {
      "application/javascript": [
       "(function(root) {\n",
       "  function now() {\n",
       "    return new Date();\n",
       "  }\n",
       "\n",
       "  const force = true;\n",
       "\n",
       "  if (typeof root._bokeh_onload_callbacks === \"undefined\" || force === true) {\n",
       "    root._bokeh_onload_callbacks = [];\n",
       "    root._bokeh_is_loading = undefined;\n",
       "  }\n",
       "\n",
       "const JS_MIME_TYPE = 'application/javascript';\n",
       "  const HTML_MIME_TYPE = 'text/html';\n",
       "  const EXEC_MIME_TYPE = 'application/vnd.bokehjs_exec.v0+json';\n",
       "  const CLASS_NAME = 'output_bokeh rendered_html';\n",
       "\n",
       "  /**\n",
       "   * Render data to the DOM node\n",
       "   */\n",
       "  function render(props, node) {\n",
       "    const script = document.createElement(\"script\");\n",
       "    node.appendChild(script);\n",
       "  }\n",
       "\n",
       "  /**\n",
       "   * Handle when an output is cleared or removed\n",
       "   */\n",
       "  function handleClearOutput(event, handle) {\n",
       "    const cell = handle.cell;\n",
       "\n",
       "    const id = cell.output_area._bokeh_element_id;\n",
       "    const server_id = cell.output_area._bokeh_server_id;\n",
       "    // Clean up Bokeh references\n",
       "    if (id != null && id in Bokeh.index) {\n",
       "      Bokeh.index[id].model.document.clear();\n",
       "      delete Bokeh.index[id];\n",
       "    }\n",
       "\n",
       "    if (server_id !== undefined) {\n",
       "      // Clean up Bokeh references\n",
       "      const cmd_clean = \"from bokeh.io.state import curstate; print(curstate().uuid_to_server['\" + server_id + \"'].get_sessions()[0].document.roots[0]._id)\";\n",
       "      cell.notebook.kernel.execute(cmd_clean, {\n",
       "        iopub: {\n",
       "          output: function(msg) {\n",
       "            const id = msg.content.text.trim();\n",
       "            if (id in Bokeh.index) {\n",
       "              Bokeh.index[id].model.document.clear();\n",
       "              delete Bokeh.index[id];\n",
       "            }\n",
       "          }\n",
       "        }\n",
       "      });\n",
       "      // Destroy server and session\n",
       "      const cmd_destroy = \"import bokeh.io.notebook as ion; ion.destroy_server('\" + server_id + \"')\";\n",
       "      cell.notebook.kernel.execute(cmd_destroy);\n",
       "    }\n",
       "  }\n",
       "\n",
       "  /**\n",
       "   * Handle when a new output is added\n",
       "   */\n",
       "  function handleAddOutput(event, handle) {\n",
       "    const output_area = handle.output_area;\n",
       "    const output = handle.output;\n",
       "\n",
       "    // limit handleAddOutput to display_data with EXEC_MIME_TYPE content only\n",
       "    if ((output.output_type != \"display_data\") || (!Object.prototype.hasOwnProperty.call(output.data, EXEC_MIME_TYPE))) {\n",
       "      return\n",
       "    }\n",
       "\n",
       "    const toinsert = output_area.element.find(\".\" + CLASS_NAME.split(' ')[0]);\n",
       "\n",
       "    if (output.metadata[EXEC_MIME_TYPE][\"id\"] !== undefined) {\n",
       "      toinsert[toinsert.length - 1].firstChild.textContent = output.data[JS_MIME_TYPE];\n",
       "      // store reference to embed id on output_area\n",
       "      output_area._bokeh_element_id = output.metadata[EXEC_MIME_TYPE][\"id\"];\n",
       "    }\n",
       "    if (output.metadata[EXEC_MIME_TYPE][\"server_id\"] !== undefined) {\n",
       "      const bk_div = document.createElement(\"div\");\n",
       "      bk_div.innerHTML = output.data[HTML_MIME_TYPE];\n",
       "      const script_attrs = bk_div.children[0].attributes;\n",
       "      for (let i = 0; i < script_attrs.length; i++) {\n",
       "        toinsert[toinsert.length - 1].firstChild.setAttribute(script_attrs[i].name, script_attrs[i].value);\n",
       "        toinsert[toinsert.length - 1].firstChild.textContent = bk_div.children[0].textContent\n",
       "      }\n",
       "      // store reference to server id on output_area\n",
       "      output_area._bokeh_server_id = output.metadata[EXEC_MIME_TYPE][\"server_id\"];\n",
       "    }\n",
       "  }\n",
       "\n",
       "  function register_renderer(events, OutputArea) {\n",
       "\n",
       "    function append_mime(data, metadata, element) {\n",
       "      // create a DOM node to render to\n",
       "      const toinsert = this.create_output_subarea(\n",
       "        metadata,\n",
       "        CLASS_NAME,\n",
       "        EXEC_MIME_TYPE\n",
       "      );\n",
       "      this.keyboard_manager.register_events(toinsert);\n",
       "      // Render to node\n",
       "      const props = {data: data, metadata: metadata[EXEC_MIME_TYPE]};\n",
       "      render(props, toinsert[toinsert.length - 1]);\n",
       "      element.append(toinsert);\n",
       "      return toinsert\n",
       "    }\n",
       "\n",
       "    /* Handle when an output is cleared or removed */\n",
       "    events.on('clear_output.CodeCell', handleClearOutput);\n",
       "    events.on('delete.Cell', handleClearOutput);\n",
       "\n",
       "    /* Handle when a new output is added */\n",
       "    events.on('output_added.OutputArea', handleAddOutput);\n",
       "\n",
       "    /**\n",
       "     * Register the mime type and append_mime function with output_area\n",
       "     */\n",
       "    OutputArea.prototype.register_mime_type(EXEC_MIME_TYPE, append_mime, {\n",
       "      /* Is output safe? */\n",
       "      safe: true,\n",
       "      /* Index of renderer in `output_area.display_order` */\n",
       "      index: 0\n",
       "    });\n",
       "  }\n",
       "\n",
       "  // register the mime type if in Jupyter Notebook environment and previously unregistered\n",
       "  if (root.Jupyter !== undefined) {\n",
       "    const events = require('base/js/events');\n",
       "    const OutputArea = require('notebook/js/outputarea').OutputArea;\n",
       "\n",
       "    if (OutputArea.prototype.mime_types().indexOf(EXEC_MIME_TYPE) == -1) {\n",
       "      register_renderer(events, OutputArea);\n",
       "    }\n",
       "  }\n",
       "  if (typeof (root._bokeh_timeout) === \"undefined\" || force === true) {\n",
       "    root._bokeh_timeout = Date.now() + 5000;\n",
       "    root._bokeh_failed_load = false;\n",
       "  }\n",
       "\n",
       "  const NB_LOAD_WARNING = {'data': {'text/html':\n",
       "     \"<div style='background-color: #fdd'>\\n\"+\n",
       "     \"<p>\\n\"+\n",
       "     \"BokehJS does not appear to have successfully loaded. If loading BokehJS from CDN, this \\n\"+\n",
       "     \"may be due to a slow or bad network connection. Possible fixes:\\n\"+\n",
       "     \"</p>\\n\"+\n",
       "     \"<ul>\\n\"+\n",
       "     \"<li>re-rerun `output_notebook()` to attempt to load from CDN again, or</li>\\n\"+\n",
       "     \"<li>use INLINE resources instead, as so:</li>\\n\"+\n",
       "     \"</ul>\\n\"+\n",
       "     \"<code>\\n\"+\n",
       "     \"from bokeh.resources import INLINE\\n\"+\n",
       "     \"output_notebook(resources=INLINE)\\n\"+\n",
       "     \"</code>\\n\"+\n",
       "     \"</div>\"}};\n",
       "\n",
       "  function display_loaded() {\n",
       "    const el = document.getElementById(\"p1001\");\n",
       "    if (el != null) {\n",
       "      el.textContent = \"BokehJS is loading...\";\n",
       "    }\n",
       "    if (root.Bokeh !== undefined) {\n",
       "      if (el != null) {\n",
       "        el.textContent = \"BokehJS \" + root.Bokeh.version + \" successfully loaded.\";\n",
       "      }\n",
       "    } else if (Date.now() < root._bokeh_timeout) {\n",
       "      setTimeout(display_loaded, 100)\n",
       "    }\n",
       "  }\n",
       "\n",
       "  function run_callbacks() {\n",
       "    try {\n",
       "      root._bokeh_onload_callbacks.forEach(function(callback) {\n",
       "        if (callback != null)\n",
       "          callback();\n",
       "      });\n",
       "    } finally {\n",
       "      delete root._bokeh_onload_callbacks\n",
       "    }\n",
       "    console.debug(\"Bokeh: all callbacks have finished\");\n",
       "  }\n",
       "\n",
       "  function load_libs(css_urls, js_urls, callback) {\n",
       "    if (css_urls == null) css_urls = [];\n",
       "    if (js_urls == null) js_urls = [];\n",
       "\n",
       "    root._bokeh_onload_callbacks.push(callback);\n",
       "    if (root._bokeh_is_loading > 0) {\n",
       "      console.debug(\"Bokeh: BokehJS is being loaded, scheduling callback at\", now());\n",
       "      return null;\n",
       "    }\n",
       "    if (js_urls == null || js_urls.length === 0) {\n",
       "      run_callbacks();\n",
       "      return null;\n",
       "    }\n",
       "    console.debug(\"Bokeh: BokehJS not loaded, scheduling load and callback at\", now());\n",
       "    root._bokeh_is_loading = css_urls.length + js_urls.length;\n",
       "\n",
       "    function on_load() {\n",
       "      root._bokeh_is_loading--;\n",
       "      if (root._bokeh_is_loading === 0) {\n",
       "        console.debug(\"Bokeh: all BokehJS libraries/stylesheets loaded\");\n",
       "        run_callbacks()\n",
       "      }\n",
       "    }\n",
       "\n",
       "    function on_error(url) {\n",
       "      console.error(\"failed to load \" + url);\n",
       "    }\n",
       "\n",
       "    for (let i = 0; i < css_urls.length; i++) {\n",
       "      const url = css_urls[i];\n",
       "      const element = document.createElement(\"link\");\n",
       "      element.onload = on_load;\n",
       "      element.onerror = on_error.bind(null, url);\n",
       "      element.rel = \"stylesheet\";\n",
       "      element.type = \"text/css\";\n",
       "      element.href = url;\n",
       "      console.debug(\"Bokeh: injecting link tag for BokehJS stylesheet: \", url);\n",
       "      document.body.appendChild(element);\n",
       "    }\n",
       "\n",
       "    for (let i = 0; i < js_urls.length; i++) {\n",
       "      const url = js_urls[i];\n",
       "      const element = document.createElement('script');\n",
       "      element.onload = on_load;\n",
       "      element.onerror = on_error.bind(null, url);\n",
       "      element.async = false;\n",
       "      element.src = url;\n",
       "      console.debug(\"Bokeh: injecting script tag for BokehJS library: \", url);\n",
       "      document.head.appendChild(element);\n",
       "    }\n",
       "  };\n",
       "\n",
       "  function inject_raw_css(css) {\n",
       "    const element = document.createElement(\"style\");\n",
       "    element.appendChild(document.createTextNode(css));\n",
       "    document.body.appendChild(element);\n",
       "  }\n",
       "\n",
       "  const js_urls = [\"https://cdn.bokeh.org/bokeh/release/bokeh-3.0.3.min.js\", \"https://cdn.bokeh.org/bokeh/release/bokeh-gl-3.0.3.min.js\", \"https://cdn.bokeh.org/bokeh/release/bokeh-widgets-3.0.3.min.js\", \"https://cdn.bokeh.org/bokeh/release/bokeh-tables-3.0.3.min.js\", \"https://cdn.bokeh.org/bokeh/release/bokeh-mathjax-3.0.3.min.js\"];\n",
       "  const css_urls = [];\n",
       "\n",
       "  const inline_js = [    function(Bokeh) {\n",
       "      Bokeh.set_log_level(\"info\");\n",
       "    },\n",
       "function(Bokeh) {\n",
       "    }\n",
       "  ];\n",
       "\n",
       "  function run_inline_js() {\n",
       "    if (root.Bokeh !== undefined || force === true) {\n",
       "          for (let i = 0; i < inline_js.length; i++) {\n",
       "      inline_js[i].call(root, root.Bokeh);\n",
       "    }\n",
       "if (force === true) {\n",
       "        display_loaded();\n",
       "      }} else if (Date.now() < root._bokeh_timeout) {\n",
       "      setTimeout(run_inline_js, 100);\n",
       "    } else if (!root._bokeh_failed_load) {\n",
       "      console.log(\"Bokeh: BokehJS failed to load within specified timeout.\");\n",
       "      root._bokeh_failed_load = true;\n",
       "    } else if (force !== true) {\n",
       "      const cell = $(document.getElementById(\"p1001\")).parents('.cell').data().cell;\n",
       "      cell.output_area.append_execute_result(NB_LOAD_WARNING)\n",
       "    }\n",
       "  }\n",
       "\n",
       "  if (root._bokeh_is_loading === 0) {\n",
       "    console.debug(\"Bokeh: BokehJS loaded, going straight to plotting\");\n",
       "    run_inline_js();\n",
       "  } else {\n",
       "    load_libs(css_urls, js_urls, function() {\n",
       "      console.debug(\"Bokeh: BokehJS plotting callback run at\", now());\n",
       "      run_inline_js();\n",
       "    });\n",
       "  }\n",
       "}(window));"
      ],
      "application/vnd.bokehjs_load.v0+json": "(function(root) {\n  function now() {\n    return new Date();\n  }\n\n  const force = true;\n\n  if (typeof root._bokeh_onload_callbacks === \"undefined\" || force === true) {\n    root._bokeh_onload_callbacks = [];\n    root._bokeh_is_loading = undefined;\n  }\n\n\n  if (typeof (root._bokeh_timeout) === \"undefined\" || force === true) {\n    root._bokeh_timeout = Date.now() + 5000;\n    root._bokeh_failed_load = false;\n  }\n\n  const NB_LOAD_WARNING = {'data': {'text/html':\n     \"<div style='background-color: #fdd'>\\n\"+\n     \"<p>\\n\"+\n     \"BokehJS does not appear to have successfully loaded. If loading BokehJS from CDN, this \\n\"+\n     \"may be due to a slow or bad network connection. Possible fixes:\\n\"+\n     \"</p>\\n\"+\n     \"<ul>\\n\"+\n     \"<li>re-rerun `output_notebook()` to attempt to load from CDN again, or</li>\\n\"+\n     \"<li>use INLINE resources instead, as so:</li>\\n\"+\n     \"</ul>\\n\"+\n     \"<code>\\n\"+\n     \"from bokeh.resources import INLINE\\n\"+\n     \"output_notebook(resources=INLINE)\\n\"+\n     \"</code>\\n\"+\n     \"</div>\"}};\n\n  function display_loaded() {\n    const el = document.getElementById(\"p1001\");\n    if (el != null) {\n      el.textContent = \"BokehJS is loading...\";\n    }\n    if (root.Bokeh !== undefined) {\n      if (el != null) {\n        el.textContent = \"BokehJS \" + root.Bokeh.version + \" successfully loaded.\";\n      }\n    } else if (Date.now() < root._bokeh_timeout) {\n      setTimeout(display_loaded, 100)\n    }\n  }\n\n  function run_callbacks() {\n    try {\n      root._bokeh_onload_callbacks.forEach(function(callback) {\n        if (callback != null)\n          callback();\n      });\n    } finally {\n      delete root._bokeh_onload_callbacks\n    }\n    console.debug(\"Bokeh: all callbacks have finished\");\n  }\n\n  function load_libs(css_urls, js_urls, callback) {\n    if (css_urls == null) css_urls = [];\n    if (js_urls == null) js_urls = [];\n\n    root._bokeh_onload_callbacks.push(callback);\n    if (root._bokeh_is_loading > 0) {\n      console.debug(\"Bokeh: BokehJS is being loaded, scheduling callback at\", now());\n      return null;\n    }\n    if (js_urls == null || js_urls.length === 0) {\n      run_callbacks();\n      return null;\n    }\n    console.debug(\"Bokeh: BokehJS not loaded, scheduling load and callback at\", now());\n    root._bokeh_is_loading = css_urls.length + js_urls.length;\n\n    function on_load() {\n      root._bokeh_is_loading--;\n      if (root._bokeh_is_loading === 0) {\n        console.debug(\"Bokeh: all BokehJS libraries/stylesheets loaded\");\n        run_callbacks()\n      }\n    }\n\n    function on_error(url) {\n      console.error(\"failed to load \" + url);\n    }\n\n    for (let i = 0; i < css_urls.length; i++) {\n      const url = css_urls[i];\n      const element = document.createElement(\"link\");\n      element.onload = on_load;\n      element.onerror = on_error.bind(null, url);\n      element.rel = \"stylesheet\";\n      element.type = \"text/css\";\n      element.href = url;\n      console.debug(\"Bokeh: injecting link tag for BokehJS stylesheet: \", url);\n      document.body.appendChild(element);\n    }\n\n    for (let i = 0; i < js_urls.length; i++) {\n      const url = js_urls[i];\n      const element = document.createElement('script');\n      element.onload = on_load;\n      element.onerror = on_error.bind(null, url);\n      element.async = false;\n      element.src = url;\n      console.debug(\"Bokeh: injecting script tag for BokehJS library: \", url);\n      document.head.appendChild(element);\n    }\n  };\n\n  function inject_raw_css(css) {\n    const element = document.createElement(\"style\");\n    element.appendChild(document.createTextNode(css));\n    document.body.appendChild(element);\n  }\n\n  const js_urls = [\"https://cdn.bokeh.org/bokeh/release/bokeh-3.0.3.min.js\", \"https://cdn.bokeh.org/bokeh/release/bokeh-gl-3.0.3.min.js\", \"https://cdn.bokeh.org/bokeh/release/bokeh-widgets-3.0.3.min.js\", \"https://cdn.bokeh.org/bokeh/release/bokeh-tables-3.0.3.min.js\", \"https://cdn.bokeh.org/bokeh/release/bokeh-mathjax-3.0.3.min.js\"];\n  const css_urls = [];\n\n  const inline_js = [    function(Bokeh) {\n      Bokeh.set_log_level(\"info\");\n    },\nfunction(Bokeh) {\n    }\n  ];\n\n  function run_inline_js() {\n    if (root.Bokeh !== undefined || force === true) {\n          for (let i = 0; i < inline_js.length; i++) {\n      inline_js[i].call(root, root.Bokeh);\n    }\nif (force === true) {\n        display_loaded();\n      }} else if (Date.now() < root._bokeh_timeout) {\n      setTimeout(run_inline_js, 100);\n    } else if (!root._bokeh_failed_load) {\n      console.log(\"Bokeh: BokehJS failed to load within specified timeout.\");\n      root._bokeh_failed_load = true;\n    } else if (force !== true) {\n      const cell = $(document.getElementById(\"p1001\")).parents('.cell').data().cell;\n      cell.output_area.append_execute_result(NB_LOAD_WARNING)\n    }\n  }\n\n  if (root._bokeh_is_loading === 0) {\n    console.debug(\"Bokeh: BokehJS loaded, going straight to plotting\");\n    run_inline_js();\n  } else {\n    load_libs(css_urls, js_urls, function() {\n      console.debug(\"Bokeh: BokehJS plotting callback run at\", now());\n      run_inline_js();\n    });\n  }\n}(window));"
     },
     "metadata": {},
     "output_type": "display_data"
    },
    {
     "data": {
      "text/html": [
       "\n",
       "  <div id=\"e57063a3-d958-4082-b613-bb23fefff3f4\" data-root-id=\"p1002\" style=\"display: contents;\"></div>\n"
      ]
     },
     "metadata": {},
     "output_type": "display_data"
    },
    {
     "data": {
      "application/javascript": [
       "(function(root) {\n",
       "  function embed_document(root) {\n",
       "  const docs_json = {\"e8ed3ff0-2f06-4467-b7da-c87675750e6c\":{\"version\":\"3.0.3\",\"title\":\"Bokeh Application\",\"defs\":[],\"roots\":[{\"type\":\"object\",\"name\":\"Figure\",\"id\":\"p1002\",\"attributes\":{\"x_range\":{\"type\":\"object\",\"name\":\"DataRange1d\",\"id\":\"p1003\"},\"y_range\":{\"type\":\"object\",\"name\":\"DataRange1d\",\"id\":\"p1004\"},\"x_scale\":{\"type\":\"object\",\"name\":\"LinearScale\",\"id\":\"p1016\"},\"y_scale\":{\"type\":\"object\",\"name\":\"LinearScale\",\"id\":\"p1018\"},\"title\":{\"type\":\"object\",\"name\":\"Title\",\"id\":\"p1005\",\"attributes\":{\"text\":\"PMF of 2000 balls in 1000 boxes\"}},\"renderers\":[{\"type\":\"object\",\"name\":\"GlyphRenderer\",\"id\":\"p1055\",\"attributes\":{\"data_source\":{\"type\":\"object\",\"name\":\"ColumnDataSource\",\"id\":\"p1049\",\"attributes\":{\"selected\":{\"type\":\"object\",\"name\":\"Selection\",\"id\":\"p1050\",\"attributes\":{\"indices\":[],\"line_indices\":[]}},\"selection_policy\":{\"type\":\"object\",\"name\":\"UnionRenderers\",\"id\":\"p1051\"},\"data\":{\"type\":\"map\",\"entries\":[[\"x\",{\"type\":\"ndarray\",\"array\":{\"type\":\"bytes\",\"data\":\"AAAAAAEAAAACAAAAAwAAAAQAAAAFAAAABgAAAAcAAAA=\"},\"shape\":[8],\"dtype\":\"int32\",\"order\":\"little\"}],[\"top\",{\"type\":\"ndarray\",\"array\":{\"type\":\"bytes\",\"data\":\"jQAAAPwAAAAaAQAAuAAAAF8AAAAcAAAADgAAAAQAAAA=\"},\"shape\":[8],\"dtype\":\"int32\",\"order\":\"little\"}]]}}},\"view\":{\"type\":\"object\",\"name\":\"CDSView\",\"id\":\"p1056\",\"attributes\":{\"filter\":{\"type\":\"object\",\"name\":\"AllIndices\",\"id\":\"p1057\"}}},\"glyph\":{\"type\":\"object\",\"name\":\"VBar\",\"id\":\"p1052\",\"attributes\":{\"x\":{\"type\":\"field\",\"field\":\"x\"},\"width\":{\"type\":\"value\",\"value\":0.05},\"top\":{\"type\":\"field\",\"field\":\"top\"},\"line_color\":{\"type\":\"value\",\"value\":\"#1f77b4\"},\"line_alpha\":{\"type\":\"value\",\"value\":0.5},\"fill_color\":{\"type\":\"value\",\"value\":\"#1f77b4\"},\"fill_alpha\":{\"type\":\"value\",\"value\":0.5},\"hatch_alpha\":{\"type\":\"value\",\"value\":0.5}}},\"nonselection_glyph\":{\"type\":\"object\",\"name\":\"VBar\",\"id\":\"p1053\",\"attributes\":{\"x\":{\"type\":\"field\",\"field\":\"x\"},\"width\":{\"type\":\"value\",\"value\":0.05},\"top\":{\"type\":\"field\",\"field\":\"top\"},\"line_color\":{\"type\":\"value\",\"value\":\"#1f77b4\"},\"line_alpha\":{\"type\":\"value\",\"value\":0.1},\"fill_color\":{\"type\":\"value\",\"value\":\"#1f77b4\"},\"fill_alpha\":{\"type\":\"value\",\"value\":0.1},\"hatch_alpha\":{\"type\":\"value\",\"value\":0.1}}},\"muted_glyph\":{\"type\":\"object\",\"name\":\"VBar\",\"id\":\"p1054\",\"attributes\":{\"x\":{\"type\":\"field\",\"field\":\"x\"},\"width\":{\"type\":\"value\",\"value\":0.05},\"top\":{\"type\":\"field\",\"field\":\"top\"},\"line_color\":{\"type\":\"value\",\"value\":\"#1f77b4\"},\"line_alpha\":{\"type\":\"value\",\"value\":0.2},\"fill_color\":{\"type\":\"value\",\"value\":\"#1f77b4\"},\"fill_alpha\":{\"type\":\"value\",\"value\":0.2},\"hatch_alpha\":{\"type\":\"value\",\"value\":0.2}}}}}],\"toolbar\":{\"type\":\"object\",\"name\":\"Toolbar\",\"id\":\"p1007\",\"attributes\":{\"tools\":[{\"type\":\"object\",\"name\":\"PanTool\",\"id\":\"p1034\"},{\"type\":\"object\",\"name\":\"WheelZoomTool\",\"id\":\"p1035\"},{\"type\":\"object\",\"name\":\"BoxZoomTool\",\"id\":\"p1036\",\"attributes\":{\"overlay\":{\"type\":\"object\",\"name\":\"BoxAnnotation\",\"id\":\"p1037\",\"attributes\":{\"syncable\":false,\"level\":\"overlay\",\"visible\":false,\"left_units\":\"canvas\",\"right_units\":\"canvas\",\"bottom_units\":\"canvas\",\"top_units\":\"canvas\",\"line_color\":\"black\",\"line_alpha\":1.0,\"line_width\":2,\"line_dash\":[4,4],\"fill_color\":\"lightgrey\",\"fill_alpha\":0.5}}}},{\"type\":\"object\",\"name\":\"SaveTool\",\"id\":\"p1038\"},{\"type\":\"object\",\"name\":\"ResetTool\",\"id\":\"p1039\"},{\"type\":\"object\",\"name\":\"HelpTool\",\"id\":\"p1040\"}]}},\"left\":[{\"type\":\"object\",\"name\":\"LinearAxis\",\"id\":\"p1027\",\"attributes\":{\"ticker\":{\"type\":\"object\",\"name\":\"BasicTicker\",\"id\":\"p1030\",\"attributes\":{\"mantissas\":[1,2,5]}},\"formatter\":{\"type\":\"object\",\"name\":\"BasicTickFormatter\",\"id\":\"p1028\"},\"axis_label\":\"Counts\",\"major_label_policy\":{\"type\":\"object\",\"name\":\"AllLabels\",\"id\":\"p1029\"}}}],\"below\":[{\"type\":\"object\",\"name\":\"LinearAxis\",\"id\":\"p1020\",\"attributes\":{\"ticker\":{\"type\":\"object\",\"name\":\"BasicTicker\",\"id\":\"p1023\",\"attributes\":{\"mantissas\":[1,2,5]}},\"formatter\":{\"type\":\"object\",\"name\":\"BasicTickFormatter\",\"id\":\"p1021\"},\"axis_label\":\"x\",\"major_label_policy\":{\"type\":\"object\",\"name\":\"AllLabels\",\"id\":\"p1022\"}}}],\"center\":[{\"type\":\"object\",\"name\":\"Grid\",\"id\":\"p1026\",\"attributes\":{\"axis\":{\"id\":\"p1020\"}}},{\"type\":\"object\",\"name\":\"Grid\",\"id\":\"p1033\",\"attributes\":{\"dimension\":1,\"axis\":{\"id\":\"p1027\"}}}]}}]}};\n",
       "  const render_items = [{\"docid\":\"e8ed3ff0-2f06-4467-b7da-c87675750e6c\",\"roots\":{\"p1002\":\"e57063a3-d958-4082-b613-bb23fefff3f4\"},\"root_ids\":[\"p1002\"]}];\n",
       "  root.Bokeh.embed.embed_items_notebook(docs_json, render_items);\n",
       "  }\n",
       "  if (root.Bokeh !== undefined) {\n",
       "    embed_document(root);\n",
       "  } else {\n",
       "    let attempts = 0;\n",
       "    const timer = setInterval(function(root) {\n",
       "      if (root.Bokeh !== undefined) {\n",
       "        clearInterval(timer);\n",
       "        embed_document(root);\n",
       "      } else {\n",
       "        attempts++;\n",
       "        if (attempts > 100) {\n",
       "          clearInterval(timer);\n",
       "          console.log(\"Bokeh: ERROR: Unable to run BokehJS code because BokehJS library is missing\");\n",
       "        }\n",
       "      }\n",
       "    }, 10, root)\n",
       "  }\n",
       "})(window);"
      ],
      "application/vnd.bokehjs_exec.v0+json": ""
     },
     "metadata": {
      "application/vnd.bokehjs_exec.v0+json": {
       "id": "p1002"
      }
     },
     "output_type": "display_data"
    }
   ],
   "source": [
    "from ctypes import CDLL\n",
    "import numpy as np\n",
    "from bokeh.io import output_notebook, show\n",
    "from bokeh.plotting import figure\n",
    "from bokeh.models import Segment\n",
    "\n",
    "output_notebook()\n",
    "\n",
    "librvgs = CDLL(\"librvgs.so\")\n",
    "\n",
    "n1 = 1000\n",
    "x = np.zeros((n1), dtype=np.int32)\n",
    "for j in range(0, 2000):\n",
    "    i = librvgs.Equilikely(0, n1-1) \n",
    "    x[i] += 1\n",
    "\n",
    "# \n",
    "\n",
    "counts, edges = np.histogram(x, bins=np.arange(x.min(), x.max() + 2), density=False)\n",
    "probs = counts / float(len(x))\n",
    "\n",
    "p = figure(title=\"PMF of 2000 balls in 1000 boxes\", x_axis_label=\"x\", y_axis_label=\"Counts\")\n",
    "p.vbar(x=edges[:-1], top=counts, width=0.05, alpha=0.5)\n",
    "\n",
    "show(p)\n"
   ]
  },
  {
   "cell_type": "code",
   "execution_count": 2,
   "metadata": {},
   "outputs": [
    {
     "name": "stdout",
     "output_type": "stream",
     "text": [
      "2000 balls histogram mean: 2.0\n",
      "2000 balls histogram std: 1.398570698963767\n"
     ]
    }
   ],
   "source": [
    "# print(hist, edges)\n",
    "mean1 = np.mean(x)\n",
    "std1 = np.std(x)\n",
    "print(\"2000 balls histogram mean:\", mean1)\n",
    "print(\"2000 balls histogram std:\", std1)"
   ]
  },
  {
   "cell_type": "code",
   "execution_count": 3,
   "metadata": {},
   "outputs": [
    {
     "data": {
      "text/html": [
       "\n",
       "  <div id=\"928c7d55-ce4a-4ff3-96ab-4bec625bc35e\" data-root-id=\"p1138\" style=\"display: contents;\"></div>\n"
      ]
     },
     "metadata": {},
     "output_type": "display_data"
    },
    {
     "data": {
      "application/javascript": [
       "(function(root) {\n",
       "  function embed_document(root) {\n",
       "  const docs_json = {\"89c63745-f12b-44fa-b0eb-c24b9dcf65a3\":{\"version\":\"3.0.3\",\"title\":\"Bokeh Application\",\"defs\":[],\"roots\":[{\"type\":\"object\",\"name\":\"Figure\",\"id\":\"p1138\",\"attributes\":{\"x_range\":{\"type\":\"object\",\"name\":\"DataRange1d\",\"id\":\"p1139\"},\"y_range\":{\"type\":\"object\",\"name\":\"DataRange1d\",\"id\":\"p1140\"},\"x_scale\":{\"type\":\"object\",\"name\":\"LinearScale\",\"id\":\"p1152\"},\"y_scale\":{\"type\":\"object\",\"name\":\"LinearScale\",\"id\":\"p1154\"},\"title\":{\"type\":\"object\",\"name\":\"Title\",\"id\":\"p1141\",\"attributes\":{\"text\":\"PMF of 10000 balls in 1000 boxes\"}},\"renderers\":[{\"type\":\"object\",\"name\":\"GlyphRenderer\",\"id\":\"p1191\",\"attributes\":{\"data_source\":{\"type\":\"object\",\"name\":\"ColumnDataSource\",\"id\":\"p1185\",\"attributes\":{\"selected\":{\"type\":\"object\",\"name\":\"Selection\",\"id\":\"p1186\",\"attributes\":{\"indices\":[],\"line_indices\":[]}},\"selection_policy\":{\"type\":\"object\",\"name\":\"UnionRenderers\",\"id\":\"p1187\"},\"data\":{\"type\":\"map\",\"entries\":[[\"x\",{\"type\":\"ndarray\",\"array\":{\"type\":\"bytes\",\"data\":\"AgAAAAMAAAAEAAAABQAAAAYAAAAHAAAACAAAAAkAAAAKAAAACwAAAAwAAAANAAAADgAAAA8AAAAQAAAAEQAAABIAAAATAAAAFAAAABUAAAAWAAAA\"},\"shape\":[21],\"dtype\":\"int32\",\"order\":\"little\"}],[\"top\",{\"type\":\"ndarray\",\"array\":{\"type\":\"bytes\",\"data\":\"AQAAAAMAAAAPAAAAJAAAAFMAAABcAAAAbgAAAH4AAAB4AAAAaAAAAGEAAABNAAAANAAAACgAAAASAAAACwAAAAoAAAACAAAAAQAAAAEAAAABAAAA\"},\"shape\":[21],\"dtype\":\"int32\",\"order\":\"little\"}]]}}},\"view\":{\"type\":\"object\",\"name\":\"CDSView\",\"id\":\"p1192\",\"attributes\":{\"filter\":{\"type\":\"object\",\"name\":\"AllIndices\",\"id\":\"p1193\"}}},\"glyph\":{\"type\":\"object\",\"name\":\"VBar\",\"id\":\"p1188\",\"attributes\":{\"x\":{\"type\":\"field\",\"field\":\"x\"},\"width\":{\"type\":\"value\",\"value\":0.08},\"top\":{\"type\":\"field\",\"field\":\"top\"},\"line_color\":{\"type\":\"value\",\"value\":\"#1f77b4\"},\"line_alpha\":{\"type\":\"value\",\"value\":0.5},\"fill_color\":{\"type\":\"value\",\"value\":\"#1f77b4\"},\"fill_alpha\":{\"type\":\"value\",\"value\":0.5},\"hatch_alpha\":{\"type\":\"value\",\"value\":0.5}}},\"nonselection_glyph\":{\"type\":\"object\",\"name\":\"VBar\",\"id\":\"p1189\",\"attributes\":{\"x\":{\"type\":\"field\",\"field\":\"x\"},\"width\":{\"type\":\"value\",\"value\":0.08},\"top\":{\"type\":\"field\",\"field\":\"top\"},\"line_color\":{\"type\":\"value\",\"value\":\"#1f77b4\"},\"line_alpha\":{\"type\":\"value\",\"value\":0.1},\"fill_color\":{\"type\":\"value\",\"value\":\"#1f77b4\"},\"fill_alpha\":{\"type\":\"value\",\"value\":0.1},\"hatch_alpha\":{\"type\":\"value\",\"value\":0.1}}},\"muted_glyph\":{\"type\":\"object\",\"name\":\"VBar\",\"id\":\"p1190\",\"attributes\":{\"x\":{\"type\":\"field\",\"field\":\"x\"},\"width\":{\"type\":\"value\",\"value\":0.08},\"top\":{\"type\":\"field\",\"field\":\"top\"},\"line_color\":{\"type\":\"value\",\"value\":\"#1f77b4\"},\"line_alpha\":{\"type\":\"value\",\"value\":0.2},\"fill_color\":{\"type\":\"value\",\"value\":\"#1f77b4\"},\"fill_alpha\":{\"type\":\"value\",\"value\":0.2},\"hatch_alpha\":{\"type\":\"value\",\"value\":0.2}}}}}],\"toolbar\":{\"type\":\"object\",\"name\":\"Toolbar\",\"id\":\"p1143\",\"attributes\":{\"tools\":[{\"type\":\"object\",\"name\":\"PanTool\",\"id\":\"p1170\"},{\"type\":\"object\",\"name\":\"WheelZoomTool\",\"id\":\"p1171\"},{\"type\":\"object\",\"name\":\"BoxZoomTool\",\"id\":\"p1172\",\"attributes\":{\"overlay\":{\"type\":\"object\",\"name\":\"BoxAnnotation\",\"id\":\"p1173\",\"attributes\":{\"syncable\":false,\"level\":\"overlay\",\"visible\":false,\"left_units\":\"canvas\",\"right_units\":\"canvas\",\"bottom_units\":\"canvas\",\"top_units\":\"canvas\",\"line_color\":\"black\",\"line_alpha\":1.0,\"line_width\":2,\"line_dash\":[4,4],\"fill_color\":\"lightgrey\",\"fill_alpha\":0.5}}}},{\"type\":\"object\",\"name\":\"SaveTool\",\"id\":\"p1174\"},{\"type\":\"object\",\"name\":\"ResetTool\",\"id\":\"p1175\"},{\"type\":\"object\",\"name\":\"HelpTool\",\"id\":\"p1176\"}]}},\"left\":[{\"type\":\"object\",\"name\":\"LinearAxis\",\"id\":\"p1163\",\"attributes\":{\"ticker\":{\"type\":\"object\",\"name\":\"BasicTicker\",\"id\":\"p1166\",\"attributes\":{\"mantissas\":[1,2,5]}},\"formatter\":{\"type\":\"object\",\"name\":\"BasicTickFormatter\",\"id\":\"p1164\"},\"axis_label\":\"Count\",\"major_label_policy\":{\"type\":\"object\",\"name\":\"AllLabels\",\"id\":\"p1165\"}}}],\"below\":[{\"type\":\"object\",\"name\":\"LinearAxis\",\"id\":\"p1156\",\"attributes\":{\"ticker\":{\"type\":\"object\",\"name\":\"BasicTicker\",\"id\":\"p1159\",\"attributes\":{\"mantissas\":[1,2,5]}},\"formatter\":{\"type\":\"object\",\"name\":\"BasicTickFormatter\",\"id\":\"p1157\"},\"axis_label\":\"x2\",\"major_label_policy\":{\"type\":\"object\",\"name\":\"AllLabels\",\"id\":\"p1158\"}}}],\"center\":[{\"type\":\"object\",\"name\":\"Grid\",\"id\":\"p1162\",\"attributes\":{\"axis\":{\"id\":\"p1156\"}}},{\"type\":\"object\",\"name\":\"Grid\",\"id\":\"p1169\",\"attributes\":{\"dimension\":1,\"axis\":{\"id\":\"p1163\"}}}]}}]}};\n",
       "  const render_items = [{\"docid\":\"89c63745-f12b-44fa-b0eb-c24b9dcf65a3\",\"roots\":{\"p1138\":\"928c7d55-ce4a-4ff3-96ab-4bec625bc35e\"},\"root_ids\":[\"p1138\"]}];\n",
       "  root.Bokeh.embed.embed_items_notebook(docs_json, render_items);\n",
       "  }\n",
       "  if (root.Bokeh !== undefined) {\n",
       "    embed_document(root);\n",
       "  } else {\n",
       "    let attempts = 0;\n",
       "    const timer = setInterval(function(root) {\n",
       "      if (root.Bokeh !== undefined) {\n",
       "        clearInterval(timer);\n",
       "        embed_document(root);\n",
       "      } else {\n",
       "        attempts++;\n",
       "        if (attempts > 100) {\n",
       "          clearInterval(timer);\n",
       "          console.log(\"Bokeh: ERROR: Unable to run BokehJS code because BokehJS library is missing\");\n",
       "        }\n",
       "      }\n",
       "    }, 10, root)\n",
       "  }\n",
       "})(window);"
      ],
      "application/vnd.bokehjs_exec.v0+json": ""
     },
     "metadata": {
      "application/vnd.bokehjs_exec.v0+json": {
       "id": "p1138"
      }
     },
     "output_type": "display_data"
    }
   ],
   "source": [
    "x2 = np.zeros((n1), dtype=np.int32)\n",
    "for j in range(0, 10000):\n",
    "    i = librvgs.Equilikely(0, n1-1) \n",
    "    x2[i] += 1\n",
    "\n",
    "counts2, edges2 = np.histogram(x2, bins=np.arange(x2.min(), x2.max() + 2), density=False)\n",
    "probs = counts2 / float(len(x2))\n",
    "\n",
    "p = figure(title=\"PMF of 10000 balls in 1000 boxes\", x_axis_label=\"x2\", y_axis_label=\"Count\")\n",
    "p.vbar(x=edges2[:-1], top=counts2, width=0.08, alpha=0.5)\n",
    "\n",
    "show(p)\n"
   ]
  },
  {
   "cell_type": "code",
   "execution_count": 4,
   "metadata": {},
   "outputs": [
    {
     "name": "stdout",
     "output_type": "stream",
     "text": [
      "10000 balls histogram mean: 10.0\n",
      "10000 balls histogram std: 3.121538082420267\n"
     ]
    }
   ],
   "source": [
    "\n",
    "mean2 = np.mean(x2)\n",
    "std2 = np.std(x2)\n",
    "print(\"10000 balls histogram mean:\", mean2)\n",
    "print(\"10000 balls histogram std:\", std2)\n"
   ]
  },
  {
   "cell_type": "markdown",
   "metadata": {},
   "source": [
    "--------------------------------------------------------------------------------------------------\n",
    "Q3:"
   ]
  },
  {
   "cell_type": "code",
   "execution_count": 5,
   "metadata": {},
   "outputs": [
    {
     "data": {
      "text/html": [
       "\n",
       "  <div id=\"e7e8827a-fd52-4aa9-b5f3-c0f33a991e37\" data-root-id=\"p1287\" style=\"display: contents;\"></div>\n"
      ]
     },
     "metadata": {},
     "output_type": "display_data"
    },
    {
     "data": {
      "application/javascript": [
       "(function(root) {\n",
       "  function embed_document(root) {\n",
       "  const docs_json = {\"d90f1a12-6777-4fd3-b937-ddafb1f35506\":{\"version\":\"3.0.3\",\"title\":\"Bokeh Application\",\"defs\":[],\"roots\":[{\"type\":\"object\",\"name\":\"Figure\",\"id\":\"p1287\",\"attributes\":{\"x_range\":{\"type\":\"object\",\"name\":\"DataRange1d\",\"id\":\"p1288\"},\"y_range\":{\"type\":\"object\",\"name\":\"DataRange1d\",\"id\":\"p1289\"},\"x_scale\":{\"type\":\"object\",\"name\":\"LinearScale\",\"id\":\"p1301\"},\"y_scale\":{\"type\":\"object\",\"name\":\"LinearScale\",\"id\":\"p1303\"},\"title\":{\"type\":\"object\",\"name\":\"Title\",\"id\":\"p1290\",\"attributes\":{\"text\":\"PMF of scores\"}},\"renderers\":[{\"type\":\"object\",\"name\":\"GlyphRenderer\",\"id\":\"p1340\",\"attributes\":{\"data_source\":{\"type\":\"object\",\"name\":\"ColumnDataSource\",\"id\":\"p1334\",\"attributes\":{\"selected\":{\"type\":\"object\",\"name\":\"Selection\",\"id\":\"p1335\",\"attributes\":{\"indices\":[],\"line_indices\":[]}},\"selection_policy\":{\"type\":\"object\",\"name\":\"UnionRenderers\",\"id\":\"p1336\"},\"data\":{\"type\":\"map\",\"entries\":[[\"x\",{\"type\":\"ndarray\",\"array\":{\"type\":\"bytes\",\"data\":\"EgAAABMAAAAUAAAAFQAAABYAAAAXAAAAGAAAABkAAAAaAAAAGwAAABwAAAAdAAAAHgAAAB8AAAAgAAAAIQAAACIAAAAjAAAAJAAAACUAAAAmAAAAJwAAACgAAAApAAAAKgAAACsAAAAsAAAALQAAAC4AAAAvAAAAMAAAAA==\"},\"shape\":[31],\"dtype\":\"int32\",\"order\":\"little\"}],[\"top\",{\"type\":\"ndarray\",\"array\":{\"type\":\"bytes\",\"data\":\"8WjjiLX45D5pHVVNEHX/PvFo44i1+PQ+8WjjiLX4JD+An3HhQEg2PwXAeAYN/UM/WBzO/GoOUD8NpmH4iJhiPw2reCPzyG8/nzws1JrmfT/YtiizQSaJPyMVxhaCHJQ/wVYJFocznz/HLlG9NbClP9U+HY8ZqKw/SnuDL0ymsj+KH2PuWkK2P9i2KLNBJrk/dmwE4nX9uj+Jeyx96IK6P6RwPQrXo7g/+8vuycNCtT8C1NSytb6wP2e4AZ8fRqg/uY0G8BZIoD9Mw/ARMSWSPwU0ETY8vYI/Q8U4fxMKcT89D+7O2m1XP9rmxvSEJS4/8WjjiLX4BD8=\"},\"shape\":[31],\"dtype\":\"float64\",\"order\":\"little\"}]]}}},\"view\":{\"type\":\"object\",\"name\":\"CDSView\",\"id\":\"p1341\",\"attributes\":{\"filter\":{\"type\":\"object\",\"name\":\"AllIndices\",\"id\":\"p1342\"}}},\"glyph\":{\"type\":\"object\",\"name\":\"VBar\",\"id\":\"p1337\",\"attributes\":{\"x\":{\"type\":\"field\",\"field\":\"x\"},\"width\":{\"type\":\"value\",\"value\":0.08},\"top\":{\"type\":\"field\",\"field\":\"top\"},\"line_color\":{\"type\":\"value\",\"value\":\"#1f77b4\"},\"line_alpha\":{\"type\":\"value\",\"value\":0.5},\"fill_color\":{\"type\":\"value\",\"value\":\"#1f77b4\"},\"fill_alpha\":{\"type\":\"value\",\"value\":0.5},\"hatch_alpha\":{\"type\":\"value\",\"value\":0.5}}},\"nonselection_glyph\":{\"type\":\"object\",\"name\":\"VBar\",\"id\":\"p1338\",\"attributes\":{\"x\":{\"type\":\"field\",\"field\":\"x\"},\"width\":{\"type\":\"value\",\"value\":0.08},\"top\":{\"type\":\"field\",\"field\":\"top\"},\"line_color\":{\"type\":\"value\",\"value\":\"#1f77b4\"},\"line_alpha\":{\"type\":\"value\",\"value\":0.1},\"fill_color\":{\"type\":\"value\",\"value\":\"#1f77b4\"},\"fill_alpha\":{\"type\":\"value\",\"value\":0.1},\"hatch_alpha\":{\"type\":\"value\",\"value\":0.1}}},\"muted_glyph\":{\"type\":\"object\",\"name\":\"VBar\",\"id\":\"p1339\",\"attributes\":{\"x\":{\"type\":\"field\",\"field\":\"x\"},\"width\":{\"type\":\"value\",\"value\":0.08},\"top\":{\"type\":\"field\",\"field\":\"top\"},\"line_color\":{\"type\":\"value\",\"value\":\"#1f77b4\"},\"line_alpha\":{\"type\":\"value\",\"value\":0.2},\"fill_color\":{\"type\":\"value\",\"value\":\"#1f77b4\"},\"fill_alpha\":{\"type\":\"value\",\"value\":0.2},\"hatch_alpha\":{\"type\":\"value\",\"value\":0.2}}}}}],\"toolbar\":{\"type\":\"object\",\"name\":\"Toolbar\",\"id\":\"p1292\",\"attributes\":{\"tools\":[{\"type\":\"object\",\"name\":\"PanTool\",\"id\":\"p1319\"},{\"type\":\"object\",\"name\":\"WheelZoomTool\",\"id\":\"p1320\"},{\"type\":\"object\",\"name\":\"BoxZoomTool\",\"id\":\"p1321\",\"attributes\":{\"overlay\":{\"type\":\"object\",\"name\":\"BoxAnnotation\",\"id\":\"p1322\",\"attributes\":{\"syncable\":false,\"level\":\"overlay\",\"visible\":false,\"left_units\":\"canvas\",\"right_units\":\"canvas\",\"bottom_units\":\"canvas\",\"top_units\":\"canvas\",\"line_color\":\"black\",\"line_alpha\":1.0,\"line_width\":2,\"line_dash\":[4,4],\"fill_color\":\"lightgrey\",\"fill_alpha\":0.5}}}},{\"type\":\"object\",\"name\":\"SaveTool\",\"id\":\"p1323\"},{\"type\":\"object\",\"name\":\"ResetTool\",\"id\":\"p1324\"},{\"type\":\"object\",\"name\":\"HelpTool\",\"id\":\"p1325\"}]}},\"left\":[{\"type\":\"object\",\"name\":\"LinearAxis\",\"id\":\"p1312\",\"attributes\":{\"ticker\":{\"type\":\"object\",\"name\":\"BasicTicker\",\"id\":\"p1315\",\"attributes\":{\"mantissas\":[1,2,5]}},\"formatter\":{\"type\":\"object\",\"name\":\"BasicTickFormatter\",\"id\":\"p1313\"},\"axis_label\":\"Probability\",\"major_label_policy\":{\"type\":\"object\",\"name\":\"AllLabels\",\"id\":\"p1314\"}}}],\"below\":[{\"type\":\"object\",\"name\":\"LinearAxis\",\"id\":\"p1305\",\"attributes\":{\"ticker\":{\"type\":\"object\",\"name\":\"BasicTicker\",\"id\":\"p1308\",\"attributes\":{\"mantissas\":[1,2,5]}},\"formatter\":{\"type\":\"object\",\"name\":\"BasicTickFormatter\",\"id\":\"p1306\"},\"axis_label\":\"scores\",\"major_label_policy\":{\"type\":\"object\",\"name\":\"AllLabels\",\"id\":\"p1307\"}}}],\"center\":[{\"type\":\"object\",\"name\":\"Grid\",\"id\":\"p1311\",\"attributes\":{\"axis\":{\"id\":\"p1305\"}}},{\"type\":\"object\",\"name\":\"Grid\",\"id\":\"p1318\",\"attributes\":{\"dimension\":1,\"axis\":{\"id\":\"p1312\"}}}]}}]}};\n",
       "  const render_items = [{\"docid\":\"d90f1a12-6777-4fd3-b937-ddafb1f35506\",\"roots\":{\"p1287\":\"e7e8827a-fd52-4aa9-b5f3-c0f33a991e37\"},\"root_ids\":[\"p1287\"]}];\n",
       "  root.Bokeh.embed.embed_items_notebook(docs_json, render_items);\n",
       "  }\n",
       "  if (root.Bokeh !== undefined) {\n",
       "    embed_document(root);\n",
       "  } else {\n",
       "    let attempts = 0;\n",
       "    const timer = setInterval(function(root) {\n",
       "      if (root.Bokeh !== undefined) {\n",
       "        clearInterval(timer);\n",
       "        embed_document(root);\n",
       "      } else {\n",
       "        attempts++;\n",
       "        if (attempts > 100) {\n",
       "          clearInterval(timer);\n",
       "          console.log(\"Bokeh: ERROR: Unable to run BokehJS code because BokehJS library is missing\");\n",
       "        }\n",
       "      }\n",
       "    }, 10, root)\n",
       "  }\n",
       "})(window);"
      ],
      "application/vnd.bokehjs_exec.v0+json": ""
     },
     "metadata": {
      "application/vnd.bokehjs_exec.v0+json": {
       "id": "p1287"
      }
     },
     "output_type": "display_data"
    }
   ],
   "source": [
    "n_questions = 120\n",
    "n_class_I = 90\n",
    "p_class_I = np.array([0.6, 0.3, 0.1, 0.0, 0.0])\n",
    "p_class_II = np.array([0.0, 0.1, 0.4, 0.4, 0.1])\n",
    "pass_score = 36\n",
    "\n",
    "# Run the Monte Carlo simulation\n",
    "trails = 100000\n",
    "scores = np.zeros(trails, dtype=int)\n",
    "for i in range(trails):\n",
    "    # randomly select 12 questions without replacement\n",
    "    q_indices = np.random.choice(n_questions, size=12, replace=False)\n",
    "    # determine the class of each question\n",
    "    q_class = np.zeros(12, dtype=int)\n",
    "    q_class[q_indices < n_class_I] = 1\n",
    "    # randomly assign grades to each question based on its class\n",
    "    q_grades = np.zeros(12, dtype=int)\n",
    "    q_grades[q_class == 0] = np.random.choice([4,3,2,1,0], size=np.sum(q_class == 0), p=p_class_II)\n",
    "    q_grades[q_class == 1] = np.random.choice([4,3,2,1,0], size=np.sum(q_class == 1), p=p_class_I)\n",
    "    # # calculate the total score and check if it passes the test\n",
    "    total_score = np.sum(q_grades)\n",
    "    scores[i] = total_score\n",
    "    \n",
    "\n",
    "hist, bins = np.histogram(scores, bins=np.arange(scores.min(), scores.max() + 2), density=True)\n",
    "probs = hist / float(len(scores))\n",
    "\n",
    "p = figure(title=\"PMF of scores\", x_axis_label=\"scores\", y_axis_label=\"Probability\")\n",
    "p.vbar(x=bins[:-1], top=hist, width=0.08, alpha=0.5)\n",
    "\n",
    "show(p)\n"
   ]
  },
  {
   "cell_type": "code",
   "execution_count": 6,
   "metadata": {},
   "outputs": [
    {
     "name": "stdout",
     "output_type": "stream",
     "text": [
      "Probability of me passing the test is: 0.56564\n"
     ]
    }
   ],
   "source": [
    "p_pass = len([x for x in scores if x >= pass_score])/len(scores)\n",
    "\n",
    "print(\"Probability of me passing the test is:\", p_pass)"
   ]
  },
  {
   "cell_type": "markdown",
   "metadata": {},
   "source": [
    "--------------------------------------------------------------------------------------------------\n",
    "Q4:"
   ]
  },
  {
   "cell_type": "markdown",
   "metadata": {},
   "source": [
    " Run cdn.c with a = 0.0, b = 8.0 and k = 16, I get:\n",
    " ./cdh\n",
    "  bin     midpoint     count   proportion    density\n",
    "\n",
    "    1       0.250         8       0.016       0.032\n",
    "    2       0.750        30       0.060       0.120\n",
    "    3       1.250        61       0.122       0.244\n",
    "    4       1.750        65       0.130       0.260\n",
    "    5       2.250        58       0.116       0.232\n",
    "    6       2.750        59       0.118       0.236\n",
    "    7       3.250        59       0.118       0.236\n",
    "    8       3.750        28       0.056       0.112\n",
    "    9       4.250        34       0.068       0.136\n",
    "   10       4.750        33       0.066       0.132\n",
    "   11       5.250        21       0.042       0.084\n",
    "   12       5.750        13       0.026       0.052\n",
    "   13       6.250         7       0.014       0.028\n",
    "   14       6.750         9       0.018       0.036\n",
    "   15       7.250         4       0.008       0.016\n",
    "   16       7.750         3       0.006       0.012\n",
    "\n",
    "sample size .... =     500\n",
    "mean ........... =   2.894\n",
    "stdev .......... =   1.584\n",
    "\n",
    "NOTE: there were 8 high outliers"
   ]
  },
  {
   "cell_type": "markdown",
   "metadata": {},
   "source": [
    "Let's increase b to be b = 16:\n",
    "\n",
    "./cdh\n",
    "  bin     midpoint     count   proportion    density\n",
    "\n",
    "    1       0.500        38       0.076       0.076\n",
    "    2       1.500       126       0.252       0.252\n",
    "    3       2.500       117       0.234       0.234\n",
    "    4       3.500        87       0.174       0.174\n",
    "    5       4.500        67       0.134       0.134\n",
    "    6       5.500        34       0.068       0.068\n",
    "    7       6.500        16       0.032       0.032\n",
    "    8       7.500         7       0.014       0.014\n",
    "    9       8.500         5       0.010       0.010\n",
    "   10       9.500         1       0.002       0.002\n",
    "   11      10.500         1       0.002       0.002\n",
    "   12      11.500         0       0.000       0.000\n",
    "   13      12.500         0       0.000       0.000\n",
    "   14      13.500         0       0.000       0.000\n",
    "   15      14.500         0       0.000       0.000\n",
    "   16      15.500         1       0.002       0.002\n",
    "\n",
    "sample size .... =     500\n",
    "mean ........... =   3.056\n",
    "stdev .......... =   1.832\n",
    "\n",
    "No outliers."
   ]
  },
  {
   "cell_type": "markdown",
   "metadata": {},
   "source": [
    "Now let's set k = 8:\n",
    "./cdh\n",
    "  bin     midpoint     count   proportion    density\n",
    "\n",
    "    1       1.000       164       0.328       0.164\n",
    "    2       3.000       204       0.408       0.204\n",
    "    3       5.000       101       0.202       0.101\n",
    "    4       7.000        23       0.046       0.023\n",
    "    5       9.000         6       0.012       0.006\n",
    "    6      11.000         1       0.002       0.001\n",
    "    7      13.000         0       0.000       0.000\n",
    "    8      15.000         1       0.002       0.001\n",
    "\n",
    "sample size .... =     500\n",
    "mean ........... =   3.044\n",
    "stdev .......... =   1.924\n",
    "\n",
    "No outliers."
   ]
  },
  {
   "cell_type": "markdown",
   "metadata": {},
   "source": [
    "Let's dive a little bit deeper, first, set $k = \\frac{5}{3}\\sqrt[3]{n} = 13$ below:"
   ]
  },
  {
   "cell_type": "code",
   "execution_count": 7,
   "metadata": {},
   "outputs": [
    {
     "data": {
      "text/html": [
       "\n",
       "  <div id=\"9703594e-57f8-48b1-9e75-e569c1c312d9\" data-root-id=\"p1449\" style=\"display: contents;\"></div>\n"
      ]
     },
     "metadata": {},
     "output_type": "display_data"
    },
    {
     "data": {
      "application/javascript": [
       "(function(root) {\n",
       "  function embed_document(root) {\n",
       "  const docs_json = {\"2bc66230-7ccd-4c4a-9027-cf7e48276219\":{\"version\":\"3.0.3\",\"title\":\"Bokeh Application\",\"defs\":[],\"roots\":[{\"type\":\"object\",\"name\":\"Figure\",\"id\":\"p1449\",\"attributes\":{\"x_range\":{\"type\":\"object\",\"name\":\"DataRange1d\",\"id\":\"p1450\"},\"y_range\":{\"type\":\"object\",\"name\":\"DataRange1d\",\"id\":\"p1451\"},\"x_scale\":{\"type\":\"object\",\"name\":\"LinearScale\",\"id\":\"p1463\"},\"y_scale\":{\"type\":\"object\",\"name\":\"LinearScale\",\"id\":\"p1465\"},\"title\":{\"type\":\"object\",\"name\":\"Title\",\"id\":\"p1452\",\"attributes\":{\"text\":\"Histogram of Service Times\"}},\"renderers\":[{\"type\":\"object\",\"name\":\"GlyphRenderer\",\"id\":\"p1502\",\"attributes\":{\"data_source\":{\"type\":\"object\",\"name\":\"ColumnDataSource\",\"id\":\"p1496\",\"attributes\":{\"selected\":{\"type\":\"object\",\"name\":\"Selection\",\"id\":\"p1497\",\"attributes\":{\"indices\":[],\"line_indices\":[]}},\"selection_policy\":{\"type\":\"object\",\"name\":\"UnionRenderers\",\"id\":\"p1498\"},\"data\":{\"type\":\"map\",\"entries\":[[\"top\",{\"type\":\"ndarray\",\"array\":{\"type\":\"bytes\",\"data\":\"WwAAAJgAAAB0AAAATgAAACUAAAANAAAACQAAAAIAAAABAAAAAAAAAAAAAAAAAAAAAQAAAA==\"},\"shape\":[13],\"dtype\":\"int32\",\"order\":\"little\"}],[\"left\",{\"type\":\"ndarray\",\"array\":{\"type\":\"bytes\",\"data\":\"KVyPwvUozD/tN+W5BLL2PytCvF117wRAX+iFXuiFDkBJx6evLQ4UQGOaDDBn2RhAfW1xsKCkHUBMIGsY7TchQNmJndiJnSNAZvPPmCYDJkDzXAJZw2goQIDGNBlgzipADTBn2fwzLUA=\"},\"shape\":[13],\"dtype\":\"float64\",\"order\":\"little\"}],[\"right\",{\"type\":\"ndarray\",\"array\":{\"type\":\"bytes\",\"data\":\"7TfluQSy9j8rQrxdde8EQF/ohV7ohQ5AScenry0OFEBjmgwwZ9kYQH1tcbCgpB1ATCBrGO03IUDZiZ3YiZ0jQGbzz5gmAyZA81wCWcNoKECAxjQZYM4qQA0wZ9n8My1AmpmZmZmZL0A=\"},\"shape\":[13],\"dtype\":\"float64\",\"order\":\"little\"}]]}}},\"view\":{\"type\":\"object\",\"name\":\"CDSView\",\"id\":\"p1503\",\"attributes\":{\"filter\":{\"type\":\"object\",\"name\":\"AllIndices\",\"id\":\"p1504\"}}},\"glyph\":{\"type\":\"object\",\"name\":\"Quad\",\"id\":\"p1499\",\"attributes\":{\"left\":{\"type\":\"field\",\"field\":\"left\"},\"right\":{\"type\":\"field\",\"field\":\"right\"},\"bottom\":{\"type\":\"value\",\"value\":0},\"top\":{\"type\":\"field\",\"field\":\"top\"},\"line_color\":{\"type\":\"value\",\"value\":\"#1f77b4\"},\"line_alpha\":{\"type\":\"value\",\"value\":0.5},\"fill_color\":{\"type\":\"value\",\"value\":\"#1f77b4\"},\"fill_alpha\":{\"type\":\"value\",\"value\":0.5},\"hatch_alpha\":{\"type\":\"value\",\"value\":0.5}}},\"nonselection_glyph\":{\"type\":\"object\",\"name\":\"Quad\",\"id\":\"p1500\",\"attributes\":{\"left\":{\"type\":\"field\",\"field\":\"left\"},\"right\":{\"type\":\"field\",\"field\":\"right\"},\"bottom\":{\"type\":\"value\",\"value\":0},\"top\":{\"type\":\"field\",\"field\":\"top\"},\"line_color\":{\"type\":\"value\",\"value\":\"#1f77b4\"},\"line_alpha\":{\"type\":\"value\",\"value\":0.1},\"fill_color\":{\"type\":\"value\",\"value\":\"#1f77b4\"},\"fill_alpha\":{\"type\":\"value\",\"value\":0.1},\"hatch_alpha\":{\"type\":\"value\",\"value\":0.1}}},\"muted_glyph\":{\"type\":\"object\",\"name\":\"Quad\",\"id\":\"p1501\",\"attributes\":{\"left\":{\"type\":\"field\",\"field\":\"left\"},\"right\":{\"type\":\"field\",\"field\":\"right\"},\"bottom\":{\"type\":\"value\",\"value\":0},\"top\":{\"type\":\"field\",\"field\":\"top\"},\"line_color\":{\"type\":\"value\",\"value\":\"#1f77b4\"},\"line_alpha\":{\"type\":\"value\",\"value\":0.2},\"fill_color\":{\"type\":\"value\",\"value\":\"#1f77b4\"},\"fill_alpha\":{\"type\":\"value\",\"value\":0.2},\"hatch_alpha\":{\"type\":\"value\",\"value\":0.2}}}}}],\"toolbar\":{\"type\":\"object\",\"name\":\"Toolbar\",\"id\":\"p1454\",\"attributes\":{\"tools\":[{\"type\":\"object\",\"name\":\"PanTool\",\"id\":\"p1481\"},{\"type\":\"object\",\"name\":\"WheelZoomTool\",\"id\":\"p1482\"},{\"type\":\"object\",\"name\":\"BoxZoomTool\",\"id\":\"p1483\",\"attributes\":{\"overlay\":{\"type\":\"object\",\"name\":\"BoxAnnotation\",\"id\":\"p1484\",\"attributes\":{\"syncable\":false,\"level\":\"overlay\",\"visible\":false,\"left_units\":\"canvas\",\"right_units\":\"canvas\",\"bottom_units\":\"canvas\",\"top_units\":\"canvas\",\"line_color\":\"black\",\"line_alpha\":1.0,\"line_width\":2,\"line_dash\":[4,4],\"fill_color\":\"lightgrey\",\"fill_alpha\":0.5}}}},{\"type\":\"object\",\"name\":\"SaveTool\",\"id\":\"p1485\"},{\"type\":\"object\",\"name\":\"ResetTool\",\"id\":\"p1486\"},{\"type\":\"object\",\"name\":\"HelpTool\",\"id\":\"p1487\"}]}},\"left\":[{\"type\":\"object\",\"name\":\"LinearAxis\",\"id\":\"p1474\",\"attributes\":{\"ticker\":{\"type\":\"object\",\"name\":\"BasicTicker\",\"id\":\"p1477\",\"attributes\":{\"mantissas\":[1,2,5]}},\"formatter\":{\"type\":\"object\",\"name\":\"BasicTickFormatter\",\"id\":\"p1475\"},\"axis_label\":\"Frequency\",\"major_label_policy\":{\"type\":\"object\",\"name\":\"AllLabels\",\"id\":\"p1476\"}}}],\"below\":[{\"type\":\"object\",\"name\":\"LinearAxis\",\"id\":\"p1467\",\"attributes\":{\"ticker\":{\"type\":\"object\",\"name\":\"BasicTicker\",\"id\":\"p1470\",\"attributes\":{\"mantissas\":[1,2,5]}},\"formatter\":{\"type\":\"object\",\"name\":\"BasicTickFormatter\",\"id\":\"p1468\"},\"axis_label\":\"Service Time\",\"major_label_policy\":{\"type\":\"object\",\"name\":\"AllLabels\",\"id\":\"p1469\"}}}],\"center\":[{\"type\":\"object\",\"name\":\"Grid\",\"id\":\"p1473\",\"attributes\":{\"axis\":{\"id\":\"p1467\"}}},{\"type\":\"object\",\"name\":\"Grid\",\"id\":\"p1480\",\"attributes\":{\"dimension\":1,\"axis\":{\"id\":\"p1474\"}}}]}}]}};\n",
       "  const render_items = [{\"docid\":\"2bc66230-7ccd-4c4a-9027-cf7e48276219\",\"roots\":{\"p1449\":\"9703594e-57f8-48b1-9e75-e569c1c312d9\"},\"root_ids\":[\"p1449\"]}];\n",
       "  root.Bokeh.embed.embed_items_notebook(docs_json, render_items);\n",
       "  }\n",
       "  if (root.Bokeh !== undefined) {\n",
       "    embed_document(root);\n",
       "  } else {\n",
       "    let attempts = 0;\n",
       "    const timer = setInterval(function(root) {\n",
       "      if (root.Bokeh !== undefined) {\n",
       "        clearInterval(timer);\n",
       "        embed_document(root);\n",
       "      } else {\n",
       "        attempts++;\n",
       "        if (attempts > 100) {\n",
       "          clearInterval(timer);\n",
       "          console.log(\"Bokeh: ERROR: Unable to run BokehJS code because BokehJS library is missing\");\n",
       "        }\n",
       "      }\n",
       "    }, 10, root)\n",
       "  }\n",
       "})(window);"
      ],
      "application/vnd.bokehjs_exec.v0+json": ""
     },
     "metadata": {
      "application/vnd.bokehjs_exec.v0+json": {
       "id": "p1449"
      }
     },
     "output_type": "display_data"
    }
   ],
   "source": [
    "with open('ac_services.txt', 'r') as file:\n",
    "    data = np.loadtxt(file, dtype=np.float64)\n",
    "hist, edges = np.histogram(data, bins=13, density=False)\n",
    "p = figure(title='Histogram of Service Times', x_axis_label='Service Time', y_axis_label='Frequency')\n",
    "p.quad(top=hist, bottom=0, left=edges[:-1], right=edges[1:], alpha=0.5)\n",
    "show(p)"
   ]
  },
  {
   "cell_type": "code",
   "execution_count": 8,
   "metadata": {},
   "outputs": [
    {
     "name": "stdout",
     "output_type": "stream",
     "text": [
      "histogram mean and std: (3.6212338461538462, 1.8378930326646212)\n",
      "sample mean and std: (3.03164, 1.8224196307107758)\n"
     ]
    }
   ],
   "source": [
    "def hist_mu_std(freq,edges):\n",
    "    hist_x = edges[1:]\n",
    "    px = (freq/sum(freq))\n",
    "    ex = sum(px*hist_x)     # E[X]\n",
    "    ex2 = sum(px*hist_x**2) # E[X**2]\n",
    "    sd = np.sqrt(ex2 - ex**2)\n",
    "    return ex, sd\n",
    "sample_mean, sample_std = np.mean(data), np.std(data)\n",
    "print(\"histogram mean and std:\", hist_mu_std(hist, edges))\n",
    "print(\"sample mean and std:\",(sample_mean, sample_std))"
   ]
  },
  {
   "cell_type": "markdown",
   "metadata": {},
   "source": [
    "\n",
    "Now let's set k = 500, which equals to the sample size:"
   ]
  },
  {
   "cell_type": "code",
   "execution_count": 9,
   "metadata": {},
   "outputs": [
    {
     "name": "stdout",
     "output_type": "stream",
     "text": [
      "500 501\n"
     ]
    },
    {
     "data": {
      "text/html": [
       "\n",
       "  <div id=\"b8d8caee-d2a4-48d2-ba06-2c4b382664ba\" data-root-id=\"p1625\" style=\"display: contents;\"></div>\n"
      ]
     },
     "metadata": {},
     "output_type": "display_data"
    },
    {
     "data": {
      "application/javascript": [
       "(function(root) {\n",
       "  function embed_document(root) {\n",
       "  const docs_json = {\"845cd8ce-352b-437d-b187-eb60921ed68f\":{\"version\":\"3.0.3\",\"title\":\"Bokeh Application\",\"defs\":[],\"roots\":[{\"type\":\"object\",\"name\":\"Figure\",\"id\":\"p1625\",\"attributes\":{\"x_range\":{\"type\":\"object\",\"name\":\"DataRange1d\",\"id\":\"p1626\"},\"y_range\":{\"type\":\"object\",\"name\":\"DataRange1d\",\"id\":\"p1627\"},\"x_scale\":{\"type\":\"object\",\"name\":\"LinearScale\",\"id\":\"p1639\"},\"y_scale\":{\"type\":\"object\",\"name\":\"LinearScale\",\"id\":\"p1641\"},\"title\":{\"type\":\"object\",\"name\":\"Title\",\"id\":\"p1628\",\"attributes\":{\"text\":\"Histogram of Service Times\"}},\"renderers\":[{\"type\":\"object\",\"name\":\"GlyphRenderer\",\"id\":\"p1678\",\"attributes\":{\"data_source\":{\"type\":\"object\",\"name\":\"ColumnDataSource\",\"id\":\"p1672\",\"attributes\":{\"selected\":{\"type\":\"object\",\"name\":\"Selection\",\"id\":\"p1673\",\"attributes\":{\"indices\":[],\"line_indices\":[]}},\"selection_policy\":{\"type\":\"object\",\"name\":\"UnionRenderers\",\"id\":\"p1674\"},\"data\":{\"type\":\"map\",\"entries\":[[\"top\",{\"type\":\"ndarray\",\"array\":{\"type\":\"bytes\",\"data\":\"AQAAAAAAAAAAAAAAAQAAAAEAAAAAAAAAAQAAAAIAAAADAAAAAQAAAAQAAAAAAAAAAwAAAAEAAAABAAAAAwAAAAAAAAAEAAAAAwAAAAMAAAAAAAAAAwAAAAEAAAABAAAAAQAAAAIAAAAGAAAAAwAAAAMAAAAGAAAABAAAAAUAAAAGAAAAAQAAAAYAAAADAAAABAAAAAIAAAADAAAABQAAAAIAAAADAAAAAwAAAAUAAAAEAAAAAwAAAAIAAAADAAAAAwAAAAMAAAAIAAAABQAAAAYAAAADAAAABAAAAAQAAAAGAAAAAwAAAAUAAAACAAAACgAAAAIAAAACAAAAAgAAAAIAAAAEAAAAAgAAAAMAAAAHAAAABgAAAAIAAAADAAAAAwAAAAkAAAAEAAAAAgAAAAYAAAAFAAAABAAAAAMAAAACAAAABQAAAAUAAAACAAAAAgAAAAIAAAACAAAAAwAAAAMAAAAHAAAABAAAAAQAAAAHAAAABQAAAAYAAAACAAAABAAAAAUAAAADAAAABAAAAAIAAAACAAAAAAAAAAAAAAAEAAAAAwAAAAUAAAABAAAAAQAAAAAAAAABAAAAAQAAAAUAAAABAAAAAQAAAAAAAAABAAAAAwAAAAIAAAACAAAAAQAAAAMAAAAEAAAAAwAAAAEAAAADAAAAAwAAAAEAAAACAAAAAgAAAAEAAAAAAAAAAQAAAAIAAAADAAAAAwAAAAEAAAACAAAAAgAAAAMAAAABAAAAAgAAAAQAAAADAAAAAQAAAAEAAAACAAAAAQAAAAIAAAACAAAAAgAAAAMAAAADAAAAAgAAAAEAAAADAAAAAAAAAAIAAAABAAAAAAAAAAEAAAABAAAAAAAAAAMAAAABAAAAAwAAAAAAAAAAAAAAAgAAAAIAAAABAAAAAAAAAAAAAAAAAAAAAwAAAAAAAAABAAAAAQAAAAAAAAACAAAAAQAAAAEAAAAAAAAAAAAAAAIAAAAAAAAAAAAAAAAAAAAAAAAAAgAAAAEAAAABAAAAAQAAAAEAAAAAAAAAAAAAAAAAAAAAAAAAAQAAAAAAAAAAAAAAAQAAAAAAAAABAAAAAQAAAAAAAAAAAAAAAAAAAAEAAAAAAAAAAgAAAAEAAAABAAAAAAAAAAAAAAABAAAAAAAAAAAAAAAAAAAAAAAAAAEAAAAAAAAAAAAAAAEAAAAAAAAAAAAAAAAAAAAAAAAAAAAAAAAAAAAAAAAAAAAAAAEAAAABAAAAAQAAAAAAAAAAAAAAAAAAAAAAAAAAAAAAAAAAAAAAAAABAAAAAAAAAAAAAAAAAAAAAAAAAAEAAAAAAAAAAAAAAAEAAAABAAAAAAAAAAAAAAAAAAAAAQAAAAAAAAAAAAAAAAAAAAAAAAAAAAAAAQAAAAAAAAAAAAAAAAAAAAAAAAAAAAAAAAAAAAAAAAAAAAAAAAAAAAAAAAAAAAAAAAAAAAAAAAABAAAAAAAAAAAAAAAAAAAAAAAAAAAAAAAAAAAAAAAAAAAAAAAAAAAAAAAAAAAAAAAAAAAAAAAAAAAAAAAAAAAAAQAAAAAAAAAAAAAAAAAAAAAAAAAAAAAAAAAAAAAAAAAAAAAAAAAAAAAAAAAAAAAAAAAAAAAAAAAAAAAAAAAAAAAAAAAAAAAAAAAAAAAAAAAAAAAAAAAAAAAAAAAAAAAAAAAAAAAAAAAAAAAAAAAAAAAAAAAAAAAAAAAAAAAAAAAAAAAAAAAAAAAAAAAAAAAAAAAAAAAAAAAAAAAAAAAAAAAAAAAAAAAAAAAAAAAAAAAAAAAAAAAAAAAAAAAAAAAAAAAAAAEAAAAAAAAAAAAAAAAAAAAAAAAAAAAAAAAAAAAAAAAAAAAAAAAAAAAAAAAAAAAAAAAAAAAAAAAAAAAAAAAAAAAAAAAAAAAAAAAAAAAAAAAAAAAAAAAAAAAAAAAAAAAAAAAAAAAAAAAAAAAAAAAAAAAAAAAAAAAAAAAAAAAAAAAAAAAAAAAAAAAAAAAAAAAAAAAAAAAAAAAAAAAAAAAAAAAAAAAAAAAAAAAAAAAAAAAAAAAAAAAAAAAAAAAAAAAAAAAAAAAAAAAAAAAAAAAAAAAAAAAAAAAAAAAAAAAAAAAAAAAAAAAAAAAAAAAAAAAAAAAAAAAAAAAAAAAAAAAAAAAAAAAAAAAAAAAAAAAAAAAAAAAAAAAAAAAAAAAAAAAAAAAAAAAAAAAAAAAAAAAAAAAAAAAAAAAAAAAAAAAAAAAAAAAAAAAAAAAAAAAAAAAAAAAAAAAAAAAAAAAAAAAAAAAAAAAAAAAAAAAAAAAAAAAAAAAAAAAAAAAAAAAAAAAAAAAAAAAAAAAAAAAAAAAAAAAAAAAAAAAAAAAAAAAAAAAAAAAAAAAAAAAAAAAAAAAAAAAAAAAAAAAAAAAAAAAAAAAAAAAAAAAAAAAAAAAAAAAAAAAAAAAAAAAAAAAAAAAAAAAAAAAAAAAAAAAAAAAAAAAAAAAAAAAAAAAAAAAAAAAAAAAAAAAAAAAAAAAAAAAAAAAAAAAAAAAAAAAAAAAAAAAAAAAAAAAAAAAAAAAAAAAAAAAAAAAAAAAAAAAAAAAAAAAAAAAAAAAAAAAAAAAAAAAAAAAAAAAAAAAAAAAAAAAAAAAAAAAAAAAAAAAAAAAAAAAAAAAAAAAAAAAAAAEAAAA=\"},\"shape\":[500],\"dtype\":\"int32\",\"order\":\"little\"}],[\"left\",{\"type\":\"ndarray\",\"array\":{\"type\":\"bytes\",\"data\":\"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\"},\"shape\":[500],\"dtype\":\"float64\",\"order\":\"little\"}],[\"right\",{\"type\":\"ndarray\",\"array\":{\"type\":\"bytes\",\"data\":\"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\"},\"shape\":[500],\"dtype\":\"float64\",\"order\":\"little\"}]]}}},\"view\":{\"type\":\"object\",\"name\":\"CDSView\",\"id\":\"p1679\",\"attributes\":{\"filter\":{\"type\":\"object\",\"name\":\"AllIndices\",\"id\":\"p1680\"}}},\"glyph\":{\"type\":\"object\",\"name\":\"Quad\",\"id\":\"p1675\",\"attributes\":{\"left\":{\"type\":\"field\",\"field\":\"left\"},\"right\":{\"type\":\"field\",\"field\":\"right\"},\"bottom\":{\"type\":\"value\",\"value\":0},\"top\":{\"type\":\"field\",\"field\":\"top\"},\"line_color\":{\"type\":\"value\",\"value\":\"#1f77b4\"},\"line_alpha\":{\"type\":\"value\",\"value\":0.5},\"fill_color\":{\"type\":\"value\",\"value\":\"#1f77b4\"},\"fill_alpha\":{\"type\":\"value\",\"value\":0.5},\"hatch_alpha\":{\"type\":\"value\",\"value\":0.5}}},\"nonselection_glyph\":{\"type\":\"object\",\"name\":\"Quad\",\"id\":\"p1676\",\"attributes\":{\"left\":{\"type\":\"field\",\"field\":\"left\"},\"right\":{\"type\":\"field\",\"field\":\"right\"},\"bottom\":{\"type\":\"value\",\"value\":0},\"top\":{\"type\":\"field\",\"field\":\"top\"},\"line_color\":{\"type\":\"value\",\"value\":\"#1f77b4\"},\"line_alpha\":{\"type\":\"value\",\"value\":0.1},\"fill_color\":{\"type\":\"value\",\"value\":\"#1f77b4\"},\"fill_alpha\":{\"type\":\"value\",\"value\":0.1},\"hatch_alpha\":{\"type\":\"value\",\"value\":0.1}}},\"muted_glyph\":{\"type\":\"object\",\"name\":\"Quad\",\"id\":\"p1677\",\"attributes\":{\"left\":{\"type\":\"field\",\"field\":\"left\"},\"right\":{\"type\":\"field\",\"field\":\"right\"},\"bottom\":{\"type\":\"value\",\"value\":0},\"top\":{\"type\":\"field\",\"field\":\"top\"},\"line_color\":{\"type\":\"value\",\"value\":\"#1f77b4\"},\"line_alpha\":{\"type\":\"value\",\"value\":0.2},\"fill_color\":{\"type\":\"value\",\"value\":\"#1f77b4\"},\"fill_alpha\":{\"type\":\"value\",\"value\":0.2},\"hatch_alpha\":{\"type\":\"value\",\"value\":0.2}}}}}],\"toolbar\":{\"type\":\"object\",\"name\":\"Toolbar\",\"id\":\"p1630\",\"attributes\":{\"tools\":[{\"type\":\"object\",\"name\":\"PanTool\",\"id\":\"p1657\"},{\"type\":\"object\",\"name\":\"WheelZoomTool\",\"id\":\"p1658\"},{\"type\":\"object\",\"name\":\"BoxZoomTool\",\"id\":\"p1659\",\"attributes\":{\"overlay\":{\"type\":\"object\",\"name\":\"BoxAnnotation\",\"id\":\"p1660\",\"attributes\":{\"syncable\":false,\"level\":\"overlay\",\"visible\":false,\"left_units\":\"canvas\",\"right_units\":\"canvas\",\"bottom_units\":\"canvas\",\"top_units\":\"canvas\",\"line_color\":\"black\",\"line_alpha\":1.0,\"line_width\":2,\"line_dash\":[4,4],\"fill_color\":\"lightgrey\",\"fill_alpha\":0.5}}}},{\"type\":\"object\",\"name\":\"SaveTool\",\"id\":\"p1661\"},{\"type\":\"object\",\"name\":\"ResetTool\",\"id\":\"p1662\"},{\"type\":\"object\",\"name\":\"HelpTool\",\"id\":\"p1663\"}]}},\"left\":[{\"type\":\"object\",\"name\":\"LinearAxis\",\"id\":\"p1650\",\"attributes\":{\"ticker\":{\"type\":\"object\",\"name\":\"BasicTicker\",\"id\":\"p1653\",\"attributes\":{\"mantissas\":[1,2,5]}},\"formatter\":{\"type\":\"object\",\"name\":\"BasicTickFormatter\",\"id\":\"p1651\"},\"axis_label\":\"Frequency\",\"major_label_policy\":{\"type\":\"object\",\"name\":\"AllLabels\",\"id\":\"p1652\"}}}],\"below\":[{\"type\":\"object\",\"name\":\"LinearAxis\",\"id\":\"p1643\",\"attributes\":{\"ticker\":{\"type\":\"object\",\"name\":\"BasicTicker\",\"id\":\"p1646\",\"attributes\":{\"mantissas\":[1,2,5]}},\"formatter\":{\"type\":\"object\",\"name\":\"BasicTickFormatter\",\"id\":\"p1644\"},\"axis_label\":\"Service Time\",\"major_label_policy\":{\"type\":\"object\",\"name\":\"AllLabels\",\"id\":\"p1645\"}}}],\"center\":[{\"type\":\"object\",\"name\":\"Grid\",\"id\":\"p1649\",\"attributes\":{\"axis\":{\"id\":\"p1643\"}}},{\"type\":\"object\",\"name\":\"Grid\",\"id\":\"p1656\",\"attributes\":{\"dimension\":1,\"axis\":{\"id\":\"p1650\"}}}]}}]}};\n",
       "  const render_items = [{\"docid\":\"845cd8ce-352b-437d-b187-eb60921ed68f\",\"roots\":{\"p1625\":\"b8d8caee-d2a4-48d2-ba06-2c4b382664ba\"},\"root_ids\":[\"p1625\"]}];\n",
       "  root.Bokeh.embed.embed_items_notebook(docs_json, render_items);\n",
       "  }\n",
       "  if (root.Bokeh !== undefined) {\n",
       "    embed_document(root);\n",
       "  } else {\n",
       "    let attempts = 0;\n",
       "    const timer = setInterval(function(root) {\n",
       "      if (root.Bokeh !== undefined) {\n",
       "        clearInterval(timer);\n",
       "        embed_document(root);\n",
       "      } else {\n",
       "        attempts++;\n",
       "        if (attempts > 100) {\n",
       "          clearInterval(timer);\n",
       "          console.log(\"Bokeh: ERROR: Unable to run BokehJS code because BokehJS library is missing\");\n",
       "        }\n",
       "      }\n",
       "    }, 10, root)\n",
       "  }\n",
       "})(window);"
      ],
      "application/vnd.bokehjs_exec.v0+json": ""
     },
     "metadata": {
      "application/vnd.bokehjs_exec.v0+json": {
       "id": "p1625"
      }
     },
     "output_type": "display_data"
    },
    {
     "name": "stdout",
     "output_type": "stream",
     "text": [
      "histogram mean and std: (3.0468352000000003, 1.8220106521776855)\n",
      "sample mean and std: (3.03164, 1.8224196307107758)\n"
     ]
    }
   ],
   "source": [
    "hist, edges = np.histogram(data, bins=500, density=False)\n",
    "print(len(hist),len(edges))\n",
    "p = figure(title='Histogram of Service Times', x_axis_label='Service Time', y_axis_label='Frequency')\n",
    "p.quad(top=hist, bottom=0, left=edges[:-1], right=edges[1:], alpha=0.5)\n",
    "show(p)\n",
    "print(\"histogram mean and std:\", hist_mu_std(hist, edges))\n",
    "print(\"sample mean and std:\",(sample_mean, sample_std))"
   ]
  },
  {
   "cell_type": "markdown",
   "metadata": {},
   "source": [
    "Answers seem close but the histogram been too noisy..."
   ]
  },
  {
   "cell_type": "markdown",
   "metadata": {},
   "source": [
    "Let's justify this by setting a and b to be default (i.e. data.min(), and data.max() that is) and adjust k:"
   ]
  },
  {
   "cell_type": "code",
   "execution_count": 10,
   "metadata": {},
   "outputs": [
    {
     "data": {
      "text/html": [
       "\n",
       "  <div id=\"e6919ee7-1fca-454e-87c9-19b46e458066\" data-root-id=\"p1814\" style=\"display: contents;\"></div>\n"
      ]
     },
     "metadata": {},
     "output_type": "display_data"
    },
    {
     "data": {
      "application/javascript": [
       "(function(root) {\n",
       "  function embed_document(root) {\n",
       "  const docs_json = {\"39947c50-5743-4a2d-b110-3e43be5c2bbe\":{\"version\":\"3.0.3\",\"title\":\"Bokeh Application\",\"defs\":[],\"roots\":[{\"type\":\"object\",\"name\":\"Figure\",\"id\":\"p1814\",\"attributes\":{\"x_range\":{\"type\":\"object\",\"name\":\"DataRange1d\",\"id\":\"p1815\"},\"y_range\":{\"type\":\"object\",\"name\":\"DataRange1d\",\"id\":\"p1816\"},\"x_scale\":{\"type\":\"object\",\"name\":\"LinearScale\",\"id\":\"p1827\"},\"y_scale\":{\"type\":\"object\",\"name\":\"LinearScale\",\"id\":\"p1829\"},\"title\":{\"type\":\"object\",\"name\":\"Title\",\"id\":\"p1821\"},\"renderers\":[{\"type\":\"object\",\"name\":\"GlyphRenderer\",\"id\":\"p1866\",\"attributes\":{\"data_source\":{\"type\":\"object\",\"name\":\"ColumnDataSource\",\"id\":\"p1860\",\"attributes\":{\"selected\":{\"type\":\"object\",\"name\":\"Selection\",\"id\":\"p1861\",\"attributes\":{\"indices\":[],\"line_indices\":[]}},\"selection_policy\":{\"type\":\"object\",\"name\":\"UnionRenderers\",\"id\":\"p1862\"},\"data\":{\"type\":\"map\",\"entries\":[[\"x\",{\"type\":\"ndarray\",\"array\":{\"type\":\"bytes\",\"data\":\"AQAAAAIAAAADAAAABAAAAAUAAAAGAAAABwAAAAgAAAAJAAAACgAAAAsAAAAMAAAADQAAAA4AAAAPAAAAEAAAABEAAAASAAAAEwAAABQAAAAVAAAAFgAAABcAAAAYAAAAGQAAABoAAAAbAAAAHAAAAB0AAAAeAAAAHwAAACAAAAAhAAAAIgAAACMAAAAkAAAAJQAAACYAAAAnAAAAKAAAACkAAAAqAAAAKwAAACwAAAAtAAAALgAAAC8AAAAwAAAAMQAAADIAAAAzAAAANAAAADUAAAA2AAAANwAAADgAAAA5AAAAOgAAADsAAAA8AAAAPQAAAD4AAAA/AAAAQAAAAEEAAABCAAAAQwAAAEQAAABFAAAARgAAAEcAAABIAAAASQAAAEoAAABLAAAATAAAAE0AAABOAAAATwAAAFAAAABRAAAAUgAAAFMAAABUAAAAVQAAAFYAAABXAAAAWAAAAFkAAABaAAAAWwAAAFwAAABdAAAAXgAAAF8AAABgAAAAYQAAAGIAAABjAAAAZAAAAGUAAABmAAAAZwAAAGgAAABpAAAAagAAAGsAAABsAAAAbQAAAG4AAABvAAAAcAAAAHEAAAByAAAAcwAAAHQAAAB1AAAAdgAAAHcAAAB4AAAAeQAAAHoAAAB7AAAAfAAAAH0AAAB+AAAAfwAAAIAAAACBAAAAggAAAIMAAACEAAAAhQAAAIYAAACHAAAAiAAAAIkAAACKAAAAiwAAAIwAAACNAAAAjgAAAI8AAACQAAAAkQAAAJIAAACTAAAAlAAAAA==\"},\"shape\":[148],\"dtype\":\"int32\",\"order\":\"little\"}],[\"y\",{\"type\":\"ndarray\",\"array\":{\"type\":\"bytes\",\"data\":\"hXe5iO9EIED/BBcrarAXQPvL7snDghRA+fwwQng0EkCh+1+bekoRQPa0w1+TtRBAdsjNcAMeEEB3CbAEoR4PQOjZrPpcbQ5Au5e9AvAEDkA8QXWGvHgNQEkxY3NJ+AxA5t2VnmucDEAYda29T1UMQOYn1T4dDwxAi5cItUAcDECQBAehqcQLQPFetTLhlwtATOmZXmJsC0CP7DcACEULQCjDTtDbLAtAuR1jxAr7CkCOt4KTWtUKQGAKtODqpQpAvMcws6ySCkBozJps24AKQOW3JbP8fQpAEAl5obZ0CkA462ZZClsKQOMh+xUGQwpABWA8g4YmCkCsVDezBiEKQOONzCN/MApASIRGsHH9CUBTk36G6O4JQAXlCRPB/AlATO53KAr0CUAewx2dC90JQPuNdtzw2wlAcqd0sP7PCUA4b3KR060JQP8uDl3VswlAKJjHuQKeCUBkD3gRRKEJQMKgUf5HmQlAoRENwiGICUBNkWlaT4oJQOAR2FtIgwlAm0buRKSBCUBMty+qT3wJQB1xgmRSfQlA09REbKl0CUBm1sjCr2EJQIA40UT3YQlAYuTnw/RfCUASF217qFoJQDoC7KTxWQlAu7zN15lQCUDBTWwr40wJQAfVPWYcRQlA4qkmyxxQCUCMeFqoYz0JQFJmg0wyPglAiGdEjEAwCUAAvP8+ZiwJQJpeODcLNQlAOtEUoAw0CUAAFpnC1SkJQK2IHF+8IQlAgDYPBSUpCUBSDC7hgR8JQN3ezUqBGglAhtBYnjkYCUDygnUJdBMJQLlwICQLGAlAs7tHj70RCUAyyGjMagwJQJk3Ny3EAAlA8V2DvvQGCUC55mB/NAwJQCNGCI82DglAaC3sy6MECUCOp8piS/sIQEhUqG4u/ghAdW8aVEIACUBtLdwz9PoIQI/QDbck8ghAuXNZRdXtCEDkyu+WIPIIQM52st3O6whAq9XkWFbvCEA1W8Ntf+gIQNZrSRyh6ghAdeWzPA/uCEBJs2ZRxeoIQM25mvig4QhAvBro8PPoCEDBLL2Jud4IQNia90n/3AhA/23njHbeCED/v/kcZ+IIQAE+7I2X3QhAA0GWnJ/fCEDy9g05o9MIQFJzNIK51QhAPaRCpJ3QCECx8JL+mcsIQK4Q7zTgzghAHG89NkDTCEDMRAflpdAIQGUuJ2Sm0ghAbYT3EATLCEBBqfbpeMwIQPKGnXIixghA0n6lJo/MCEDhPkArVMwIQKjS7xQvzQhA4YFCv/PMCEDnj0PXmMoIQCzm/6jXvwhApNzfmgS7CEBsMA3DR8QIQOX4VG/KyQhAdQFp3vXCCEA23cUOPbwIQKiZLuShtwhAzFnY0w7BCEBFmShRC7cIQPK0FEpUwAhAq9ULjc68CEAPNrMATroIQIUyTOsyuwhAI8cwFkW4CEAWAPl0sbgIQAbEhZ3DtghAuq/t/v+yCEDWQDeNYLQIQAZDbbkksQhAq5iPZ1a0CEDzPgm2abMIQANTFItMtAhAEIkg0iOtCED2crLnRbAIQErOvOpmrwhABYvmgFusCEA5P9RPkK4IQE/UjOGQqwhAY1HUUlKqCEA=\"},\"shape\":[148],\"dtype\":\"float64\",\"order\":\"little\"}]]}}},\"view\":{\"type\":\"object\",\"name\":\"CDSView\",\"id\":\"p1867\",\"attributes\":{\"filter\":{\"type\":\"object\",\"name\":\"AllIndices\",\"id\":\"p1868\"}}},\"glyph\":{\"type\":\"object\",\"name\":\"Line\",\"id\":\"p1863\",\"attributes\":{\"x\":{\"type\":\"field\",\"field\":\"x\"},\"y\":{\"type\":\"field\",\"field\":\"y\"},\"line_color\":\"blue\"}},\"nonselection_glyph\":{\"type\":\"object\",\"name\":\"Line\",\"id\":\"p1864\",\"attributes\":{\"x\":{\"type\":\"field\",\"field\":\"x\"},\"y\":{\"type\":\"field\",\"field\":\"y\"},\"line_color\":\"blue\",\"line_alpha\":0.1}},\"muted_glyph\":{\"type\":\"object\",\"name\":\"Line\",\"id\":\"p1865\",\"attributes\":{\"x\":{\"type\":\"field\",\"field\":\"x\"},\"y\":{\"type\":\"field\",\"field\":\"y\"},\"line_color\":\"blue\",\"line_alpha\":0.2}}}},{\"type\":\"object\",\"name\":\"GlyphRenderer\",\"id\":\"p1875\",\"attributes\":{\"data_source\":{\"type\":\"object\",\"name\":\"ColumnDataSource\",\"id\":\"p1869\",\"attributes\":{\"selected\":{\"type\":\"object\",\"name\":\"Selection\",\"id\":\"p1870\",\"attributes\":{\"indices\":[],\"line_indices\":[]}},\"selection_policy\":{\"type\":\"object\",\"name\":\"UnionRenderers\",\"id\":\"p1871\"},\"data\":{\"type\":\"map\",\"entries\":[[\"x\",{\"type\":\"ndarray\",\"array\":{\"type\":\"bytes\",\"data\":\"AQAAAAIAAAADAAAABAAAAAUAAAAGAAAABwAAAAgAAAAJAAAACgAAAAsAAAAMAAAADQAAAA4AAAAPAAAAEAAAABEAAAASAAAAEwAAABQAAAAVAAAAFgAAABcAAAAYAAAAGQAAABoAAAAbAAAAHAAAAB0AAAAeAAAAHwAAACAAAAAhAAAAIgAAACMAAAAkAAAAJQAAACYAAAAnAAAAKAAAACkAAAAqAAAAKwAAACwAAAAtAAAALgAAAC8AAAAwAAAAMQAAADIAAAAzAAAANAAAADUAAAA2AAAANwAAADgAAAA5AAAAOgAAADsAAAA8AAAAPQAAAD4AAAA/AAAAQAAAAEEAAABCAAAAQwAAAEQAAABFAAAARgAAAEcAAABIAAAASQAAAEoAAABLAAAATAAAAE0AAABOAAAATwAAAFAAAABRAAAAUgAAAFMAAABUAAAAVQAAAFYAAABXAAAAWAAAAFkAAABaAAAAWwAAAFwAAABdAAAAXgAAAF8AAABgAAAAYQAAAGIAAABjAAAAZAAAAGUAAABmAAAAZwAAAGgAAABpAAAAagAAAGsAAABsAAAAbQAAAG4AAABvAAAAcAAAAHEAAAByAAAAcwAAAHQAAAB1AAAAdgAAAHcAAAB4AAAAeQAAAHoAAAB7AAAAfAAAAH0AAAB+AAAAfwAAAIAAAACBAAAAggAAAIMAAACEAAAAhQAAAIYAAACHAAAAiAAAAIkAAACKAAAAiwAAAIwAAACNAAAAjgAAAI8AAACQAAAAkQAAAJIAAACTAAAAlAAAAA==\"},\"shape\":[148],\"dtype\":\"int32\",\"order\":\"little\"}],[\"y\",{\"type\":\"ndarray\",\"array\":{\"type\":\"bytes\",\"data\":\"bw1gVUdH7z9b2ApLb8z5P6rXuw8MC/4//NfCNBD+/T/Yraqr4mf+P3F2jVRmEP4/pRSjDNtO/j8IOjtXS6X9PyqdrZ7vjv0/phkRQde8/T9hh7iXcaf9P/NzTYYCaP0/EKTGROp4/T/aKAEuVXH9PxQED/xVRv0/283pgcpF/T+Kotz9Rzz9P1s3GaNoBv0/WiRqJukU/T+9KWJG6Az9P6sXQQ+hM/0/WuyFJzMW/T9c9UllPlz9PzbvYkt7YP0/aXOBQMRQ/T9eCyrGcUz9P5ubQNCFWv0/HAIWUUpQ/T+FqXFV8jD9P/DKtRh3SP0/KcV99JQt/T97o1rBiC79P5cnBHgiOv0/PFCuk/UF/T/2bMds6g39P1Qk71TgQv0/bCPVq70Z/T8idYMO6gT9P4PywIBkIv0/8hWykWkY/T+D4XRWKiP9P6xNe0uMTv0/Cwp5Bwcp/T/wzcI5tTz9P1GY51A/OP0/WNtL9Vgu/T9+5NuOIzP9P1Mdia1MMf0/6If+mJ1G/T/ImKxp0hH9P8PJthcLIf0/w4x4aec6/T8Kenm4oyf9P1MU79WWLf0/yVMqe/c0/T8F5ymZ9Sn9P/AmGndiK/0/blker4cT/T82JGA0dhr9Py6SH/v1H/0/A0uTSKkm/T+HDjeJeRj9P/YY1OdzMv0//74qxx4c/T8VuhamzR/9P8WkUqDpLf0/dak2Bloj/T/RpeivriL9P6j338uMDf0/aTuzwWYt/T8vP9R+6yX9P8vkYnQ6Iv0/mrzYiy8y/T/3l4dM9yb9PxxRb3PiKf0/mhfm4Iss/T+y9NHSnh79P+mnR56zIv0/qUOsI88W/T9+l2JwWTL9P9LtaWc/I/0/ygleHHQY/T+Tokx9GCX9P4Bc9TdxFf0/yMz+ULMv/T/bcHqKMi39P7SnrZ/ZJP0/4x8YyI4o/T/MYhc2xS/9PwwmSVzSI/0/NJXHiD8h/T8YJzIV3yr9P/IcGVBYKf0/wZQdlGwv/T9LAwOIqxz9Pwzvwx71Iv0/XVykWRcv/T8o8WDqnyP9PwgAbB/7KP0/2FEnKAUi/T/Ep6AJpSn9P/wSY9faGv0/o/17jUca/T9FPvt9Zhn9Pxsyi4LIOf0/yfwZGgou/T9C7CFLhSX9P6cAnQOsLv0/XNFj44Et/T8TyeuMESb9P3sDsGOgMv0/bOEkBdIk/T9cpaVIJS/9P05SbFNPIv0//+mAK9Qq/T/o2dBL9BX9P0+v0Ye1Iv0/6A90NVwr/T/T3EwFbx39P2tOg5klJf0/w1xLVewq/T9xJoqmhx/9P8or7gM4Kv0/wa9cGckh/T8ImfIgUSb9P6yFFGDqIf0/pZwvPiky/T/0pTyOMyX9Pzu0VTjQF/0/8qArR5Ql/T+X83dSEyT9P3tZPZZhIf0/bbvGSm4m/T+SEEOi/x/9P48bxi4VKv0/wRcf3w8h/T87uWOnbSH9P5OOXgMDH/0/eM/AdiQm/T+jNs3ynh39P2GEjU46I/0/KK3I5H4f/T+Xn+Wi5CX9P2qkJ15YJ/0/1fDHf2oj/T+Z22T/SiL9P/TDm05EKv0/JZjsgYAl/T8=\"},\"shape\":[148],\"dtype\":\"float64\",\"order\":\"little\"}]]}}},\"view\":{\"type\":\"object\",\"name\":\"CDSView\",\"id\":\"p1876\",\"attributes\":{\"filter\":{\"type\":\"object\",\"name\":\"AllIndices\",\"id\":\"p1877\"}}},\"glyph\":{\"type\":\"object\",\"name\":\"Line\",\"id\":\"p1872\",\"attributes\":{\"x\":{\"type\":\"field\",\"field\":\"x\"},\"y\":{\"type\":\"field\",\"field\":\"y\"},\"line_color\":\"red\"}},\"nonselection_glyph\":{\"type\":\"object\",\"name\":\"Line\",\"id\":\"p1873\",\"attributes\":{\"x\":{\"type\":\"field\",\"field\":\"x\"},\"y\":{\"type\":\"field\",\"field\":\"y\"},\"line_color\":\"red\",\"line_alpha\":0.1}},\"muted_glyph\":{\"type\":\"object\",\"name\":\"Line\",\"id\":\"p1874\",\"attributes\":{\"x\":{\"type\":\"field\",\"field\":\"x\"},\"y\":{\"type\":\"field\",\"field\":\"y\"},\"line_color\":\"red\",\"line_alpha\":0.2}}}}],\"toolbar\":{\"type\":\"object\",\"name\":\"Toolbar\",\"id\":\"p1817\",\"attributes\":{\"tools\":[{\"type\":\"object\",\"name\":\"PanTool\",\"id\":\"p1845\"},{\"type\":\"object\",\"name\":\"WheelZoomTool\",\"id\":\"p1846\"},{\"type\":\"object\",\"name\":\"BoxZoomTool\",\"id\":\"p1847\",\"attributes\":{\"overlay\":{\"type\":\"object\",\"name\":\"BoxAnnotation\",\"id\":\"p1848\",\"attributes\":{\"syncable\":false,\"level\":\"overlay\",\"visible\":false,\"left_units\":\"canvas\",\"right_units\":\"canvas\",\"bottom_units\":\"canvas\",\"top_units\":\"canvas\",\"line_color\":\"black\",\"line_alpha\":1.0,\"line_width\":2,\"line_dash\":[4,4],\"fill_color\":\"lightgrey\",\"fill_alpha\":0.5}}}},{\"type\":\"object\",\"name\":\"SaveTool\",\"id\":\"p1849\"},{\"type\":\"object\",\"name\":\"ResetTool\",\"id\":\"p1850\"},{\"type\":\"object\",\"name\":\"HelpTool\",\"id\":\"p1851\"}]}},\"left\":[{\"type\":\"object\",\"name\":\"LinearAxis\",\"id\":\"p1838\",\"attributes\":{\"ticker\":{\"type\":\"object\",\"name\":\"BasicTicker\",\"id\":\"p1841\",\"attributes\":{\"mantissas\":[1,2,5]}},\"formatter\":{\"type\":\"object\",\"name\":\"BasicTickFormatter\",\"id\":\"p1839\"},\"major_label_policy\":{\"type\":\"object\",\"name\":\"AllLabels\",\"id\":\"p1840\"}}}],\"below\":[{\"type\":\"object\",\"name\":\"LinearAxis\",\"id\":\"p1831\",\"attributes\":{\"ticker\":{\"type\":\"object\",\"name\":\"BasicTicker\",\"id\":\"p1834\",\"attributes\":{\"mantissas\":[1,2,5]}},\"formatter\":{\"type\":\"object\",\"name\":\"BasicTickFormatter\",\"id\":\"p1832\"},\"major_label_policy\":{\"type\":\"object\",\"name\":\"AllLabels\",\"id\":\"p1833\"}}}],\"center\":[{\"type\":\"object\",\"name\":\"Grid\",\"id\":\"p1837\",\"attributes\":{\"axis\":{\"id\":\"p1831\"}}},{\"type\":\"object\",\"name\":\"Grid\",\"id\":\"p1844\",\"attributes\":{\"dimension\":1,\"axis\":{\"id\":\"p1838\"}}}]}}]}};\n",
       "  const render_items = [{\"docid\":\"39947c50-5743-4a2d-b110-3e43be5c2bbe\",\"roots\":{\"p1814\":\"e6919ee7-1fca-454e-87c9-19b46e458066\"},\"root_ids\":[\"p1814\"]}];\n",
       "  root.Bokeh.embed.embed_items_notebook(docs_json, render_items);\n",
       "  }\n",
       "  if (root.Bokeh !== undefined) {\n",
       "    embed_document(root);\n",
       "  } else {\n",
       "    let attempts = 0;\n",
       "    const timer = setInterval(function(root) {\n",
       "      if (root.Bokeh !== undefined) {\n",
       "        clearInterval(timer);\n",
       "        embed_document(root);\n",
       "      } else {\n",
       "        attempts++;\n",
       "        if (attempts > 100) {\n",
       "          clearInterval(timer);\n",
       "          console.log(\"Bokeh: ERROR: Unable to run BokehJS code because BokehJS library is missing\");\n",
       "        }\n",
       "      }\n",
       "    }, 10, root)\n",
       "  }\n",
       "})(window);"
      ],
      "application/vnd.bokehjs_exec.v0+json": ""
     },
     "metadata": {
      "application/vnd.bokehjs_exec.v0+json": {
       "id": "p1814"
      }
     },
     "output_type": "display_data"
    }
   ],
   "source": [
    "\n",
    "\n",
    "res = np.array([hist_mu_std(*np.histogram(data, bins=k, density=False)) for k in range(2, 150)])\n",
    "p = figure()\n",
    "p.line(np.arange(res.shape[0])+1, res[:,0], line_color='blue')\n",
    "p.line(np.arange(res.shape[0])+1, res[:,1], line_color='red')\n",
    "show(p)"
   ]
  },
  {
   "cell_type": "markdown",
   "metadata": {},
   "source": [
    "Observe that both histogram mean and histogram std start to converge to a steady state around a k value 10 to 20;\n",
    "Therefore, it is reasonable that I choose k = 13."
   ]
  }
 ],
 "metadata": {
  "kernelspec": {
   "display_name": "Python 3 (ipykernel)",
   "language": "python",
   "name": "python3"
  },
  "language_info": {
   "codemirror_mode": {
    "name": "ipython",
    "version": 3
   },
   "file_extension": ".py",
   "mimetype": "text/x-python",
   "name": "python",
   "nbconvert_exporter": "python",
   "pygments_lexer": "ipython3",
   "version": "3.10.9"
  },
  "vscode": {
   "interpreter": {
    "hash": "b0fa6594d8f4cbf19f97940f81e996739fb7646882a419484c72d19e05852a7e"
   }
  }
 },
 "nbformat": 4,
 "nbformat_minor": 2
}
